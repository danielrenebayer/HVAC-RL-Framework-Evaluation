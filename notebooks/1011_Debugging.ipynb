{
 "cells": [
  {
   "cell_type": "code",
   "execution_count": 1,
   "id": "periodic-richards",
   "metadata": {},
   "outputs": [],
   "source": [
    "import os\n",
    "import sys\n",
    "import shutil\n",
    "import pickle\n",
    "\n",
    "glp = os.path.abspath(\"../code\")\n",
    "if not glp in sys.path: sys.path.append( glp )\n",
    "\n",
    "from global_paths import global_paths\n",
    "\n",
    "if not global_paths[\"COBS\"] in sys.path: sys.path.append( global_paths[\"COBS\"] )"
   ]
  },
  {
   "cell_type": "code",
   "execution_count": 2,
   "id": "ideal-retention",
   "metadata": {},
   "outputs": [],
   "source": [
    "import cobs\n",
    "import torch\n",
    "import datetime\n",
    "import numpy as np\n",
    "import pandas as pd\n",
    "import matplotlib.pyplot as plt"
   ]
  },
  {
   "cell_type": "code",
   "execution_count": 3,
   "id": "ignored-oxide",
   "metadata": {},
   "outputs": [],
   "source": [
    "from BuildingOccupancy import Person, Meeting, WeeklyMeeting, OneTimeMeeting, BuildingOccupancy\n",
    "from DefaultBuildings import Building_5ZoneAirCooled, Building_5ZoneAirCooled_SingleAgent\n",
    "from Agents import agent_constructor\n",
    "from CentralController import ddpg_episode_mc\n",
    "import RLCritics\n",
    "import StateUtilities as SU"
   ]
  },
  {
   "cell_type": "code",
   "execution_count": null,
   "id": "fancy-compact",
   "metadata": {},
   "outputs": [],
   "source": []
  },
  {
   "cell_type": "code",
   "execution_count": 14,
   "id": "atlantic-operator",
   "metadata": {},
   "outputs": [],
   "source": [
    "dirname = '../scripts/checkpoints/011-20210311-2155/'"
   ]
  },
  {
   "cell_type": "code",
   "execution_count": null,
   "id": "successful-manner",
   "metadata": {},
   "outputs": [],
   "source": []
  },
  {
   "cell_type": "code",
   "execution_count": 5,
   "id": "functional-surfing",
   "metadata": {},
   "outputs": [],
   "source": [
    "cobs.Model.set_energyplus_folder(global_paths[\"eplus\"])"
   ]
  },
  {
   "cell_type": "code",
   "execution_count": 6,
   "id": "cardiovascular-eagle",
   "metadata": {},
   "outputs": [],
   "source": [
    "building = Building_5ZoneAirCooled_SingleAgent()"
   ]
  },
  {
   "cell_type": "code",
   "execution_count": null,
   "id": "neither-bubble",
   "metadata": {},
   "outputs": [],
   "source": []
  },
  {
   "cell_type": "code",
   "execution_count": 7,
   "id": "guided-speaking",
   "metadata": {},
   "outputs": [],
   "source": [
    "# Define the agents\n",
    "agents1 = []\n",
    "for agent_name, (controlled_device, controlled_device_type) in building.agent_device_pairing.items():\n",
    "    new_agent = agent_constructor( controlled_device_type )\n",
    "    new_agent.initialize(name = agent_name,\n",
    "                         controlled_element = controlled_device,\n",
    "                         global_state_keys  = building.global_state_variables)\n",
    "    agents1.append(new_agent)\n",
    "\n",
    "# Define the agents\n",
    "agents2 = []\n",
    "for agent_name, (controlled_device, controlled_device_type) in building.agent_device_pairing.items():\n",
    "    new_agent = agent_constructor( controlled_device_type )\n",
    "    new_agent.initialize(name = agent_name,\n",
    "                         controlled_element = controlled_device,\n",
    "                         global_state_keys  = building.global_state_variables)\n",
    "    agents2.append(new_agent)"
   ]
  },
  {
   "cell_type": "code",
   "execution_count": 8,
   "id": "recent-webster",
   "metadata": {},
   "outputs": [],
   "source": [
    "# Define the critics\n",
    "critics1 = []\n",
    "critics2 = []\n",
    "ciritic_input_variables=[\"Minutes of Day\",\"Day of Week\",\"Calendar Week\",\n",
    "                         \"Outdoor Air Temperature\",\"Outdoor Air Humidity\",\n",
    "                         \"Outdoor Wind Speed\",\"Outdoor Wind Direction\",\n",
    "                         \"Outdoor Solar Radi Diffuse\",\"Outdoor Solar Radi Direct\"]\n",
    "for vartype in [\"Zone Temperature\",\"Zone People Count\",\n",
    "                \"Zone Relative Humidity\",\n",
    "                \"Zone VAV Reheat Damper Position\",\"Zone CO2\"]:\n",
    "    ciritic_input_variables.extend( [f\"SPACE{k}-1 {vartype}\" for k in range(1,6)] )\n",
    "for agent in agents1:\n",
    "    new_critic = RLCritics.CriticMergeAndOnlyFC(\n",
    "                    input_variables=ciritic_input_variables,\n",
    "                    agents = agents1,\n",
    "                    global_state_keys=building.global_state_variables)\n",
    "    critics1.append(new_critic)\n",
    "\n",
    "for agent in agents1:\n",
    "    new_critic = RLCritics.CriticMergeAndOnlyFC(\n",
    "                    input_variables=ciritic_input_variables,\n",
    "                    agents = agents1,\n",
    "                    global_state_keys=building.global_state_variables)\n",
    "    critics2.append(new_critic)"
   ]
  },
  {
   "cell_type": "code",
   "execution_count": null,
   "id": "eight-raise",
   "metadata": {},
   "outputs": [],
   "source": []
  },
  {
   "cell_type": "code",
   "execution_count": 15,
   "id": "endangered-netherlands",
   "metadata": {},
   "outputs": [],
   "source": [
    "agents1[0].load_models_from_disk(dirname, \"episode_0_\")\n",
    "agents2[0].load_models_from_disk(dirname, \"episode_1_\")"
   ]
  },
  {
   "cell_type": "code",
   "execution_count": 16,
   "id": "prompt-damage",
   "metadata": {},
   "outputs": [],
   "source": [
    "critics1[0].load_models_from_disk(dirname, \"episode_0_\")\n",
    "critics2[0].load_models_from_disk(dirname, \"episode_1_\")"
   ]
  },
  {
   "cell_type": "code",
   "execution_count": null,
   "id": "confidential-ballot",
   "metadata": {},
   "outputs": [],
   "source": []
  },
  {
   "cell_type": "code",
   "execution_count": 17,
   "id": "mysterious-remove",
   "metadata": {},
   "outputs": [],
   "source": [
    "params1a = agents1[0].model_actor.parameters()\n",
    "params2a = agents2[0].model_actor.parameters()\n",
    "\n",
    "params1c = critics1[0].model.parameters()\n",
    "params2c = critics2[0].model.parameters()"
   ]
  },
  {
   "cell_type": "code",
   "execution_count": null,
   "id": "identical-appointment",
   "metadata": {},
   "outputs": [],
   "source": []
  },
  {
   "cell_type": "code",
   "execution_count": 18,
   "id": "configured-integral",
   "metadata": {},
   "outputs": [
    {
     "name": "stdout",
     "output_type": "stream",
     "text": [
      "tensor(-0.0599, device='cuda:0', grad_fn=<MinBackward1>) tensor(0.0416, device='cuda:0', grad_fn=<MaxBackward1>)\n",
      "tensor(-0.0268, device='cuda:0', grad_fn=<MinBackward1>) tensor(0.0103, device='cuda:0', grad_fn=<MaxBackward1>)\n",
      "tensor(-0.2567, device='cuda:0', grad_fn=<MinBackward1>) tensor(0.1306, device='cuda:0', grad_fn=<MaxBackward1>)\n",
      "tensor(-0.0523, device='cuda:0', grad_fn=<MinBackward1>) tensor(0.0129, device='cuda:0', grad_fn=<MaxBackward1>)\n",
      "tensor(-0.2630, device='cuda:0', grad_fn=<MinBackward1>) tensor(0.1480, device='cuda:0', grad_fn=<MaxBackward1>)\n",
      "tensor(-0.0056, device='cuda:0', grad_fn=<MinBackward1>) tensor(0.0146, device='cuda:0', grad_fn=<MaxBackward1>)\n"
     ]
    }
   ],
   "source": [
    "for p1, p2 in zip(params1a, params2a):\n",
    "    p = p1 - p2\n",
    "    print(p.min(), p.max())"
   ]
  },
  {
   "cell_type": "code",
   "execution_count": 19,
   "id": "satisfied-sampling",
   "metadata": {},
   "outputs": [
    {
     "name": "stdout",
     "output_type": "stream",
     "text": [
      "tensor(-0.0884, device='cuda:0', grad_fn=<MinBackward1>) tensor(0.0867, device='cuda:0', grad_fn=<MaxBackward1>)\n",
      "tensor(-0.0579, device='cuda:0', grad_fn=<MinBackward1>) tensor(0.0421, device='cuda:0', grad_fn=<MaxBackward1>)\n",
      "tensor(-0.0934, device='cuda:0', grad_fn=<MinBackward1>) tensor(0.1027, device='cuda:0', grad_fn=<MaxBackward1>)\n",
      "tensor(-0.0458, device='cuda:0', grad_fn=<MinBackward1>) tensor(0.0411, device='cuda:0', grad_fn=<MaxBackward1>)\n",
      "tensor(-0.0430, device='cuda:0', grad_fn=<MinBackward1>) tensor(0.0669, device='cuda:0', grad_fn=<MaxBackward1>)\n",
      "tensor(-0.0360, device='cuda:0', grad_fn=<MinBackward1>) tensor(-0.0360, device='cuda:0', grad_fn=<MaxBackward1>)\n"
     ]
    }
   ],
   "source": [
    "for p1, p2 in zip(params1c, params2c):\n",
    "    p = p1 - p2\n",
    "    print(p.min(), p.max())"
   ]
  },
  {
   "cell_type": "code",
   "execution_count": null,
   "id": "significant-stuart",
   "metadata": {},
   "outputs": [],
   "source": []
  },
  {
   "cell_type": "code",
   "execution_count": null,
   "id": "australian-muscle",
   "metadata": {},
   "outputs": [],
   "source": []
  },
  {
   "cell_type": "code",
   "execution_count": null,
   "id": "floating-evidence",
   "metadata": {},
   "outputs": [],
   "source": []
  },
  {
   "cell_type": "code",
   "execution_count": null,
   "id": "bibliographic-topic",
   "metadata": {},
   "outputs": [],
   "source": []
  },
  {
   "cell_type": "code",
   "execution_count": 270,
   "id": "generous-circuit",
   "metadata": {},
   "outputs": [],
   "source": [
    "m1 = torch.nn.Sequential(\n",
    "    torch.nn.Linear(3,7),\n",
    "    torch.nn.ReLU(),\n",
    "    torch.nn.Linear(7,7),\n",
    "    torch.nn.ReLU(),\n",
    "    torch.nn.Linear(7,1),\n",
    "    torch.nn.ReLU()\n",
    ")"
   ]
  },
  {
   "cell_type": "code",
   "execution_count": 271,
   "id": "checked-panama",
   "metadata": {},
   "outputs": [],
   "source": [
    "loss = torch.nn.MSELoss(0.01)\n",
    "opti = torch.optim.Adam(params=m1.parameters(), lr=0.5)"
   ]
  },
  {
   "cell_type": "code",
   "execution_count": 272,
   "id": "searching-platinum",
   "metadata": {},
   "outputs": [],
   "source": [
    "ten1 = torch.tensor([[0.01,0.0,0.0044]], requires_grad=True)\n",
    "ten2 = torch.tensor([[0.01,0.0,0.0044]])"
   ]
  },
  {
   "cell_type": "code",
   "execution_count": 244,
   "id": "dress-closing",
   "metadata": {},
   "outputs": [
    {
     "data": {
      "text/plain": [
       "tensor([[0.5024]], grad_fn=<ReluBackward0>)"
      ]
     },
     "execution_count": 244,
     "metadata": {},
     "output_type": "execute_result"
    }
   ],
   "source": [
    "o1 = m1(ten1)\n",
    "o1"
   ]
  },
  {
   "cell_type": "code",
   "execution_count": 245,
   "id": "dynamic-nothing",
   "metadata": {},
   "outputs": [
    {
     "data": {
      "text/plain": [
       "tensor([[0.5024]], grad_fn=<ReluBackward0>)"
      ]
     },
     "execution_count": 245,
     "metadata": {},
     "output_type": "execute_result"
    }
   ],
   "source": [
    "o2 = m1(ten2)\n",
    "o2"
   ]
  },
  {
   "cell_type": "code",
   "execution_count": 246,
   "id": "apparent-alert",
   "metadata": {},
   "outputs": [
    {
     "name": "stderr",
     "output_type": "stream",
     "text": [
      "/proj/ciptmp/me14miju/pyenvs/masterarbeit37/lib/python3.7/site-packages/torch/nn/modules/loss.py:431: UserWarning: Using a target size (torch.Size([1])) that is different to the input size (torch.Size([1, 1])). This will likely lead to incorrect results due to broadcasting. Please ensure they have the same size.\n",
      "  return F.mse_loss(input, target, reduction=self.reduction)\n"
     ]
    }
   ],
   "source": [
    "loss(o1, torch.ones(1)).backward()"
   ]
  },
  {
   "cell_type": "code",
   "execution_count": 247,
   "id": "overhead-fishing",
   "metadata": {},
   "outputs": [],
   "source": [
    "opti.step()"
   ]
  },
  {
   "cell_type": "code",
   "execution_count": 290,
   "id": "golden-burlington",
   "metadata": {},
   "outputs": [
    {
     "name": "stdout",
     "output_type": "stream",
     "text": [
      "2 1.4963072538375854\n",
      "1 1.0531017780303955\n",
      "2 1.611612319946289\n",
      "1 0.5887762904167175\n",
      "2 0.5188843011856079\n",
      "1 0.35344937443733215\n"
     ]
    }
   ],
   "source": [
    "for p in m1.parameters():\n",
    "    print(len(p.shape), float(p.norm().detach().numpy()))"
   ]
  },
  {
   "cell_type": "code",
   "execution_count": 289,
   "id": "committed-classification",
   "metadata": {},
   "outputs": [
    {
     "data": {
      "text/plain": [
       "1"
      ]
     },
     "execution_count": 289,
     "metadata": {},
     "output_type": "execute_result"
    }
   ],
   "source": [
    "len(p.shape)"
   ]
  },
  {
   "cell_type": "code",
   "execution_count": null,
   "id": "historic-country",
   "metadata": {},
   "outputs": [],
   "source": []
  }
 ],
 "metadata": {
  "kernelspec": {
   "display_name": "Python 3",
   "language": "python",
   "name": "python3"
  },
  "language_info": {
   "codemirror_mode": {
    "name": "ipython",
    "version": 3
   },
   "file_extension": ".py",
   "mimetype": "text/x-python",
   "name": "python",
   "nbconvert_exporter": "python",
   "pygments_lexer": "ipython3",
   "version": "3.7.3"
  }
 },
 "nbformat": 4,
 "nbformat_minor": 5
}
