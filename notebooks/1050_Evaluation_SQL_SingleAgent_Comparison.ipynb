{
 "cells": [
  {
   "cell_type": "code",
   "execution_count": null,
   "id": "periodic-richards",
   "metadata": {},
   "outputs": [],
   "source": [
    "import os\n",
    "import sys\n",
    "import ast\n",
    "import pickle\n",
    "\n",
    "glp = os.path.abspath(\"../code\")\n",
    "if not glp in sys.path: sys.path.append( glp )\n",
    "\n",
    "from global_paths import global_paths\n",
    "\n",
    "if not global_paths[\"COBS\"] in sys.path: sys.path.append( global_paths[\"COBS\"] )"
   ]
  },
  {
   "cell_type": "code",
   "execution_count": null,
   "id": "ideal-retention",
   "metadata": {},
   "outputs": [],
   "source": [
    "import cobs\n",
    "import torch\n",
    "import datetime\n",
    "import numpy as np\n",
    "import pandas as pd\n",
    "import matplotlib.pyplot as plt\n",
    "import subprocess"
   ]
  },
  {
   "cell_type": "code",
   "execution_count": null,
   "id": "ignored-oxide",
   "metadata": {},
   "outputs": [],
   "source": [
    "from BuildingOccupancy import Person, Meeting, WeeklyMeeting, OneTimeMeeting, BuildingOccupancy\n",
    "from DefaultBuildings import Building_5ZoneAirCooled\n",
    "from Agents import agent_constructor\n",
    "from CentralController import ddpg_episode_mc\n",
    "import RLCritics\n",
    "import StateUtilities as SU"
   ]
  },
  {
   "cell_type": "code",
   "execution_count": null,
   "id": "domestic-father",
   "metadata": {},
   "outputs": [],
   "source": [
    "import visualization_helper as vh"
   ]
  },
  {
   "cell_type": "code",
   "execution_count": null,
   "id": "fancy-compact",
   "metadata": {},
   "outputs": [],
   "source": []
  },
  {
   "cell_type": "code",
   "execution_count": null,
   "id": "atlantic-operator",
   "metadata": {},
   "outputs": [],
   "source": [
    "dirname1 = \"../checkpoints/s112/20210429-1555/\"\n",
    "dirname2 = \"../checkpoints/s112b/20210429-1629/\"\n",
    "dirname3 = \"../checkpoints/s112c/20210429-1642/\""
   ]
  },
  {
   "cell_type": "code",
   "execution_count": null,
   "id": "continuing-packaging",
   "metadata": {},
   "outputs": [],
   "source": [
    "dfs1 = vh.convert_sqlite_to_df(dirname1)"
   ]
  },
  {
   "cell_type": "code",
   "execution_count": null,
   "id": "sticky-robin",
   "metadata": {},
   "outputs": [],
   "source": [
    "dfs2 = vh.convert_sqlite_to_df(dirname2)"
   ]
  },
  {
   "cell_type": "code",
   "execution_count": null,
   "id": "compressed-demographic",
   "metadata": {},
   "outputs": [],
   "source": [
    "dfs3 = vh.convert_sqlite_to_df(dirname3)"
   ]
  },
  {
   "cell_type": "code",
   "execution_count": null,
   "id": "experimental-royal",
   "metadata": {},
   "outputs": [],
   "source": [
    "alldfs = [dfs1, dfs2, dfs3]\n",
    "fig_width = 15"
   ]
  },
  {
   "cell_type": "code",
   "execution_count": null,
   "id": "declared-grammar",
   "metadata": {},
   "outputs": [],
   "source": [
    "_, axes = plt.subplots(nrows=1, ncols=len(alldfs), figsize=(fig_width,4), sharex=False)\n",
    "for idx, dfs in enumerate(alldfs):\n",
    "    vh.plot_lr_epsilon(dfs, axes[idx])"
   ]
  },
  {
   "cell_type": "code",
   "execution_count": null,
   "id": "actual-sucking",
   "metadata": {},
   "outputs": [],
   "source": []
  },
  {
   "cell_type": "code",
   "execution_count": null,
   "id": "rotary-example",
   "metadata": {},
   "outputs": [],
   "source": [
    "_, axes = plt.subplots(nrows=3, ncols=len(alldfs), figsize=(fig_width,10), sharex=False)\n",
    "for idx, dfs in enumerate(alldfs):\n",
    "    vh.plot_eees_mean_per_episode(dfs, axes[:, idx])"
   ]
  },
  {
   "cell_type": "code",
   "execution_count": null,
   "id": "roman-richardson",
   "metadata": {},
   "outputs": [],
   "source": [
    "_, axes = plt.subplots(nrows=5, ncols=len(alldfs), figsize=(fig_width,8), sharex=True)\n",
    "for idx, dfs in enumerate(alldfs):\n",
    "    vh.plot_eeesea(dfs, axes[:, idx])"
   ]
  },
  {
   "cell_type": "code",
   "execution_count": null,
   "id": "moved-virgin",
   "metadata": {},
   "outputs": [],
   "source": [
    "_, axes = plt.subplots(nrows=4, ncols=len(alldfs), figsize=(fig_width,6))\n",
    "for idx, dfs in enumerate(alldfs):\n",
    "    vh.plot_eeesea_frobnorm(dfs, axes[:, idx])"
   ]
  },
  {
   "cell_type": "code",
   "execution_count": null,
   "id": "sized-testimony",
   "metadata": {},
   "outputs": [],
   "source": [
    "last_available_eval_episodes = []\n",
    "for idx, dfs in enumerate(alldfs):\n",
    "    last_eval_episode = dfs['sees'].loc[:, \"episode\"].unique()[-1]\n",
    "    last_available_eval_episodes.append(last_eval_episode)\n",
    "    print(f\"Last available evaluation episode for dfs{idx}: {last_eval_episode:6}\")"
   ]
  },
  {
   "cell_type": "markdown",
   "id": "disturbed-microphone",
   "metadata": {},
   "source": [
    "<h3>Details: Temperatur Setpoints for one week</h3>"
   ]
  },
  {
   "cell_type": "code",
   "execution_count": null,
   "id": "engaging-belarus",
   "metadata": {},
   "outputs": [],
   "source": [
    "#selected_episodes = [13120 - 1, 14480 - 1, 14480 - 1]\n",
    "#selected_weeks    = [datetime.datetime(2017, 1, 1), datetime.datetime(2017, 1, 1), datetime.datetime(2017, 1, 1)]"
   ]
  },
  {
   "cell_type": "code",
   "execution_count": null,
   "id": "mysterious-remove",
   "metadata": {},
   "outputs": [],
   "source": [
    "if not \"selected_episodes\" in locals().keys():\n",
    "    selected_episodes = last_available_eval_episodes.copy()\n",
    "if not \"selected_weeks\" in locals().keys():\n",
    "    # the start of the evaluation episode\n",
    "    selected_weeks = [datetime.datetime.strptime(dfs['sees'].iloc[0][\"datetime\"], \"%Y-%m-%d %H:%M:%S\")\n",
    "                      for dfs in alldfs]\n",
    "\n",
    "subdfs = []\n",
    "for idx, dfs in enumerate(alldfs):\n",
    "    subdfs1 = vh.select_week_and_episode(dfs, selected_episodes[idx], selected_weeks[idx])\n",
    "    subdfs.append( subdfs1 )"
   ]
  },
  {
   "cell_type": "code",
   "execution_count": null,
   "id": "identical-appointment",
   "metadata": {},
   "outputs": [],
   "source": [
    "_, axes = plt.subplots(nrows=5, ncols=len(alldfs), figsize=(fig_width,6), sharex=True)\n",
    "for idx, dfs in enumerate(alldfs):\n",
    "    vh.plot_sees(subdfs[idx], axes[:, idx])"
   ]
  },
  {
   "cell_type": "code",
   "execution_count": null,
   "id": "faced-preference",
   "metadata": {},
   "outputs": [],
   "source": [
    "_, axes = plt.subplots(nrows=1, ncols=len(alldfs), figsize=(fig_width,2))\n",
    "for idx, dfs in enumerate(alldfs):\n",
    "    vh.plot_eees_only_mstpc(subdfs[idx], axes[idx])"
   ]
  },
  {
   "cell_type": "code",
   "execution_count": null,
   "id": "patent-maryland",
   "metadata": {},
   "outputs": [],
   "source": [
    "_, axes = plt.subplots(nrows=3, ncols=len(alldfs), figsize=(fig_width,8))\n",
    "for idx, dfs in enumerate(alldfs):\n",
    "    vh.plot_eees_normal(subdfs[idx], axes[:, idx]) #['eees']['reward'].plot()"
   ]
  },
  {
   "cell_type": "code",
   "execution_count": null,
   "id": "powerful-partition",
   "metadata": {},
   "outputs": [],
   "source": [
    "_, axes = plt.subplots(nrows=4, ncols=len(alldfs), figsize=(fig_width,12), sharex=True)\n",
    "for idx, dfs in enumerate(alldfs):\n",
    "    vh.plot_seeser_all_rooms(subdfs[idx], axes[:, idx])\n",
    "# for individual rooms use plot_seeser(subdfs, room_id, ax)"
   ]
  },
  {
   "cell_type": "code",
   "execution_count": null,
   "id": "racial-vienna",
   "metadata": {},
   "outputs": [],
   "source": [
    "subdfs_rooms  = []\n",
    "subdfs_agents = []\n",
    "\n",
    "for idx, sdfs in enumerate(subdfs):\n",
    "    sdfs_rooms  = sdfs[\"seeser\"].loc[:, \"room\"].unique()\n",
    "    sdfs_agents = sdfs[\"seesea\"].loc[:, \"agent_nr\"].unique()\n",
    "    subdfs_rooms.append(sdfs_rooms)\n",
    "    subdfs_agents.append(sdfs_agents)\n",
    "    print(f\"Available Room  IDs in subdfs{idx}: {sdfs_rooms}\")\n",
    "    print(f\"Available Agent IDs in subdfs{idx}: {sdfs_agents}\", \"\\n\")"
   ]
  },
  {
   "cell_type": "code",
   "execution_count": null,
   "id": "heated-slave",
   "metadata": {},
   "outputs": [],
   "source": [
    "max_n_agents = max(2, max([len(sdfs_agents) for sdfs_agents in subdfs_agents]))\n",
    "_, axes = plt.subplots(nrows=max_n_agents, ncols=len(alldfs), figsize=(fig_width,2*max_n_agents))\n",
    "for idx, sdfs in enumerate(subdfs):\n",
    "    for idx2, roomid, agentid in zip(range(len(subdfs_rooms[idx])), subdfs_rooms[idx], subdfs_agents[idx]):\n",
    "        vh.plot_room_temp_agent_setpoint(sdfs, roomid, roomid+1, agentid, axes[idx2, idx])"
   ]
  },
  {
   "cell_type": "code",
   "execution_count": null,
   "id": "accepting-bryan",
   "metadata": {},
   "outputs": [],
   "source": [
    "nrows = max_n_agents\n",
    "_, axes = plt.subplots(nrows=nrows, ncols=len(alldfs), figsize=(fig_width,2*nrows), sharex=True)\n",
    "for a in axes.flatten():\n",
    "    a.ticklabel_format(useOffset=False, style='plain')\n",
    "for idx, sdfs in enumerate(subdfs):\n",
    "    vh.plot_seesea(sdfs, axes[:, idx])"
   ]
  },
  {
   "cell_type": "markdown",
   "id": "empirical-forward",
   "metadata": {},
   "source": [
    "<h3>Details for a day</h3>"
   ]
  },
  {
   "cell_type": "code",
   "execution_count": null,
   "id": "durable-maple",
   "metadata": {},
   "outputs": [],
   "source": [
    "selected_periods     = [datetime.datetime(2017, 1, 3), datetime.datetime(2017, 1, 3), datetime.datetime(2017, 1, 3)]\n",
    "selected_periods_end = [datetime.datetime(2017, 1, 4), datetime.datetime(2017, 1, 4), datetime.datetime(2017, 1, 4)]\n",
    "\n",
    "subdfs = []\n",
    "for idx, dfs in enumerate(alldfs):\n",
    "    subdfs1 = vh.select_week_and_episode(dfs, selected_episodes[idx],\n",
    "                                         selected_periods[idx], selected_periods_end[idx])\n",
    "    subdfs.append(subdfs1)"
   ]
  },
  {
   "cell_type": "code",
   "execution_count": null,
   "id": "nasty-bristol",
   "metadata": {},
   "outputs": [],
   "source": [
    "_, axes = plt.subplots(nrows=3, ncols=len(alldfs), figsize=(fig_width,8))\n",
    "for idx, dfs in enumerate(alldfs):\n",
    "    vh.plot_eees_normal(subdfs[idx], axes[:, idx]) #['eees']['reward'].plot()"
   ]
  },
  {
   "cell_type": "code",
   "execution_count": null,
   "id": "manual-survivor",
   "metadata": {},
   "outputs": [],
   "source": [
    "max_n_agents = max(2, max([len(sdfs_agents) for sdfs_agents in subdfs_agents]))\n",
    "_, axes = plt.subplots(nrows=max_n_agents, ncols=len(alldfs), figsize=(fig_width,2*max_n_agents))\n",
    "for idx, sdfs in enumerate(subdfs):\n",
    "    for idx2, roomid, agentid in zip(range(len(subdfs_rooms[idx])), subdfs_rooms[idx], subdfs_agents[idx]):\n",
    "        vh.plot_room_temp_agent_setpoint(sdfs, roomid, roomid+1, agentid, axes[idx2, idx])"
   ]
  },
  {
   "cell_type": "code",
   "execution_count": null,
   "id": "exciting-nigeria",
   "metadata": {},
   "outputs": [],
   "source": [
    "nrows = max_n_agents\n",
    "_, axes = plt.subplots(nrows=nrows, ncols=len(alldfs), figsize=(fig_width,2*nrows), sharex=True)\n",
    "for a in axes.flatten():\n",
    "    a.ticklabel_format(useOffset=False, style='plain')\n",
    "for idx, sdfs in enumerate(subdfs):\n",
    "    vh.plot_seesea(sdfs, axes[:, idx])"
   ]
  },
  {
   "cell_type": "code",
   "execution_count": null,
   "id": "domestic-homeless",
   "metadata": {},
   "outputs": [],
   "source": []
  },
  {
   "cell_type": "code",
   "execution_count": null,
   "id": "operational-master",
   "metadata": {},
   "outputs": [],
   "source": []
  },
  {
   "cell_type": "code",
   "execution_count": null,
   "id": "united-airplane",
   "metadata": {},
   "outputs": [],
   "source": []
  },
  {
   "cell_type": "code",
   "execution_count": null,
   "id": "hazardous-polish",
   "metadata": {},
   "outputs": [],
   "source": []
  }
 ],
 "metadata": {
  "kernelspec": {
   "display_name": "Python 3",
   "language": "python",
   "name": "python3"
  },
  "language_info": {
   "codemirror_mode": {
    "name": "ipython",
    "version": 3
   },
   "file_extension": ".py",
   "mimetype": "text/x-python",
   "name": "python",
   "nbconvert_exporter": "python",
   "pygments_lexer": "ipython3",
   "version": "3.7.3"
  }
 },
 "nbformat": 4,
 "nbformat_minor": 5
}
