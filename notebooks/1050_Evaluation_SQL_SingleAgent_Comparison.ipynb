{
 "cells": [
  {
   "cell_type": "code",
   "execution_count": null,
   "id": "periodic-richards",
   "metadata": {},
   "outputs": [],
   "source": [
    "import os\n",
    "import sys\n",
    "import ast\n",
    "import pickle\n",
    "\n",
    "glp = os.path.abspath(\"../code\")\n",
    "if not glp in sys.path: sys.path.append( glp )\n",
    "\n",
    "from global_paths import global_paths\n",
    "\n",
    "if not global_paths[\"COBS\"] in sys.path: sys.path.append( global_paths[\"COBS\"] )"
   ]
  },
  {
   "cell_type": "code",
   "execution_count": null,
   "id": "ideal-retention",
   "metadata": {},
   "outputs": [],
   "source": [
    "import cobs\n",
    "import torch\n",
    "import datetime\n",
    "import numpy as np\n",
    "import pandas as pd\n",
    "import matplotlib.pyplot as plt"
   ]
  },
  {
   "cell_type": "code",
   "execution_count": null,
   "id": "ignored-oxide",
   "metadata": {},
   "outputs": [],
   "source": [
    "from BuildingOccupancy import Person, Meeting, WeeklyMeeting, OneTimeMeeting, BuildingOccupancy\n",
    "from DefaultBuildings import Building_5ZoneAirCooled\n",
    "from Agents import agent_constructor\n",
    "from CentralController import ddpg_episode_mc\n",
    "import RLCritics\n",
    "import StateUtilities as SU"
   ]
  },
  {
   "cell_type": "code",
   "execution_count": null,
   "id": "domestic-father",
   "metadata": {},
   "outputs": [],
   "source": [
    "import visualization_helper as vh"
   ]
  },
  {
   "cell_type": "code",
   "execution_count": null,
   "id": "fancy-compact",
   "metadata": {},
   "outputs": [],
   "source": []
  },
  {
   "cell_type": "code",
   "execution_count": null,
   "id": "atlantic-operator",
   "metadata": {},
   "outputs": [],
   "source": [
    "#dirname1 = '../checkpoints/s002/20210322-1350/'\n",
    "#dirname1 = '../checkpoints/s003/20210322-2147/'\n",
    "#dirname1 = '../checkpoints/s005/20210323-1438/'\n",
    "#dirname1 = '../checkpoints/b002/' # baseline chicago\n",
    "#dirname2 = '../checkpoints/b001/'  # baseline fairfax\n",
    "\n",
    "dirname1 = '../checkpoints/s006/20210324-2035/'\n",
    "#dirname1 = '../checkpoints/s007/'\n",
    "dirname2 = '../checkpoints/s007/20210325-1226/'\n",
    "\n",
    "multioutput = True"
   ]
  },
  {
   "cell_type": "code",
   "execution_count": null,
   "id": "continuing-packaging",
   "metadata": {},
   "outputs": [],
   "source": [
    "dfs1 = vh.convert_sqlite_to_df(dirname1)"
   ]
  },
  {
   "cell_type": "code",
   "execution_count": null,
   "id": "sticky-robin",
   "metadata": {},
   "outputs": [],
   "source": [
    "dfs2 = vh.convert_sqlite_to_df(dirname2)"
   ]
  },
  {
   "cell_type": "code",
   "execution_count": null,
   "id": "actual-sucking",
   "metadata": {},
   "outputs": [],
   "source": []
  },
  {
   "cell_type": "code",
   "execution_count": null,
   "id": "rotary-example",
   "metadata": {},
   "outputs": [],
   "source": [
    "_, axes = plt.subplots(nrows=6, ncols=2, figsize=(15,10), sharex=False)\n",
    "vh.plot_eees(dfs1, axes[:, 0])\n",
    "vh.plot_eees(dfs2, axes[:, 1])"
   ]
  },
  {
   "cell_type": "code",
   "execution_count": null,
   "id": "roman-richardson",
   "metadata": {},
   "outputs": [],
   "source": [
    "_, axes = plt.subplots(nrows=5, ncols=2, figsize=(15,8), sharex=True)\n",
    "vh.plot_eeesea(dfs1, axes[:, 0])\n",
    "vh.plot_eeesea(dfs2, axes[:, 1])"
   ]
  },
  {
   "cell_type": "code",
   "execution_count": null,
   "id": "moved-virgin",
   "metadata": {},
   "outputs": [],
   "source": [
    "_, axes = plt.subplots(nrows=4, ncols=2, figsize=(15,6))\n",
    "vh.plot_eeesea_frobnorm(dfs1, axes[:, 0])\n",
    "vh.plot_eeesea_frobnorm(dfs2, axes[:, 1])"
   ]
  },
  {
   "cell_type": "code",
   "execution_count": null,
   "id": "sized-testimony",
   "metadata": {},
   "outputs": [],
   "source": []
  },
  {
   "cell_type": "markdown",
   "id": "disturbed-microphone",
   "metadata": {},
   "source": [
    "<h3>Details: Temperatur Setpoints</h3>"
   ]
  },
  {
   "cell_type": "code",
   "execution_count": null,
   "id": "mysterious-remove",
   "metadata": {},
   "outputs": [],
   "source": [
    "selected_episode = 80 - 1\n",
    "selected_room    = 1 # i.e. SPACE1-1\n",
    "selected_week    = datetime.datetime(2017, 1, 1)\n",
    "selected_week2   = datetime.datetime(2017, 1, 1)\n",
    "#selected_week2   = datetime.datetime(2020, 7, 22)\n",
    "\n",
    "subdfs1 = vh.select_week_and_episode(dfs1, selected_episode, selected_week)\n",
    "#subdfs1 = vh.select_week_and_episode(dfs1, 0, selected_week)\n",
    "subdfs2 = vh.select_week_and_episode(dfs2, selected_episode, selected_week2)\n",
    "#subdfs2 = vh.select_week_and_episode(dfs2, 0, selected_week2)"
   ]
  },
  {
   "cell_type": "code",
   "execution_count": null,
   "id": "atomic-premises",
   "metadata": {},
   "outputs": [],
   "source": []
  },
  {
   "cell_type": "code",
   "execution_count": null,
   "id": "identical-appointment",
   "metadata": {},
   "outputs": [],
   "source": [
    "_, axes = plt.subplots(nrows=5, ncols=2, figsize=(15,6), sharex=True)\n",
    "vh.plot_sees(subdfs1, axes[:, 0])\n",
    "vh.plot_sees(subdfs2, axes[:, 1])"
   ]
  },
  {
   "cell_type": "code",
   "execution_count": null,
   "id": "faced-preference",
   "metadata": {},
   "outputs": [],
   "source": [
    "_, axes = plt.subplots(nrows=1, ncols=2, figsize=(15,2))\n",
    "vh.plot_eees_only_mstpc(subdfs1, axes[0])\n",
    "vh.plot_eees_only_mstpc(subdfs2, axes[1])"
   ]
  },
  {
   "cell_type": "code",
   "execution_count": null,
   "id": "furnished-chicago",
   "metadata": {},
   "outputs": [],
   "source": [
    "_, axes = plt.subplots(nrows=4, ncols=2, figsize=(15,17), sharex=True)\n",
    "vh.plot_seeser(subdfs1, selected_room, axes[:, 0])\n",
    "vh.plot_seeser(subdfs2, selected_room, axes[:, 1])"
   ]
  },
  {
   "cell_type": "code",
   "execution_count": null,
   "id": "powerful-partition",
   "metadata": {},
   "outputs": [],
   "source": [
    "_, axes = plt.subplots(nrows=4, ncols=2, figsize=(15,17), sharex=True)\n",
    "vh.plot_seeser_all_rooms(subdfs1, axes[:, 0])\n",
    "vh.plot_seeser_all_rooms(subdfs2, axes[:, 1])\n",
    "# for individual rooms use plot_seeser(subdfs, room_id, ax)"
   ]
  },
  {
   "cell_type": "code",
   "execution_count": null,
   "id": "accepting-bryan",
   "metadata": {},
   "outputs": [],
   "source": [
    "_, axes = plt.subplots(nrows=15, ncols=2, figsize=(15,30), sharex=True)\n",
    "for a in axes.flatten():\n",
    "    a.ticklabel_format(useOffset=False, style='plain')\n",
    "vh.plot_seesea(subdfs1, axes[:, 0])\n",
    "vh.plot_seesea(subdfs2, axes[:, 1])"
   ]
  },
  {
   "cell_type": "code",
   "execution_count": null,
   "id": "marked-objective",
   "metadata": {},
   "outputs": [],
   "source": []
  },
  {
   "cell_type": "code",
   "execution_count": null,
   "id": "racial-vienna",
   "metadata": {},
   "outputs": [],
   "source": []
  },
  {
   "cell_type": "code",
   "execution_count": null,
   "id": "cellular-reasoning",
   "metadata": {},
   "outputs": [],
   "source": []
  },
  {
   "cell_type": "code",
   "execution_count": null,
   "id": "visible-champion",
   "metadata": {},
   "outputs": [],
   "source": []
  },
  {
   "cell_type": "code",
   "execution_count": null,
   "id": "brutal-chicago",
   "metadata": {},
   "outputs": [],
   "source": []
  },
  {
   "cell_type": "code",
   "execution_count": null,
   "id": "raised-trout",
   "metadata": {},
   "outputs": [],
   "source": []
  },
  {
   "cell_type": "code",
   "execution_count": null,
   "id": "collaborative-extension",
   "metadata": {},
   "outputs": [],
   "source": []
  },
  {
   "cell_type": "code",
   "execution_count": null,
   "id": "operational-master",
   "metadata": {},
   "outputs": [],
   "source": []
  },
  {
   "cell_type": "code",
   "execution_count": null,
   "id": "hazardous-polish",
   "metadata": {},
   "outputs": [],
   "source": []
  }
 ],
 "metadata": {
  "kernelspec": {
   "display_name": "Python 3",
   "language": "python",
   "name": "python3"
  },
  "language_info": {
   "codemirror_mode": {
    "name": "ipython",
    "version": 3
   },
   "file_extension": ".py",
   "mimetype": "text/x-python",
   "name": "python",
   "nbconvert_exporter": "python",
   "pygments_lexer": "ipython3",
   "version": "3.7.3"
  }
 },
 "nbformat": 4,
 "nbformat_minor": 5
}
