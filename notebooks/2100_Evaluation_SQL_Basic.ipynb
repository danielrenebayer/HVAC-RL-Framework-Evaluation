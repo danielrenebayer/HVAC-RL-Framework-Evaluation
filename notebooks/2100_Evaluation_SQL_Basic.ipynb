{
 "cells": [
  {
   "cell_type": "code",
   "execution_count": null,
   "id": "periodic-richards",
   "metadata": {},
   "outputs": [],
   "source": [
    "import os\n",
    "import sys\n",
    "import ast\n",
    "import pickle\n",
    "\n",
    "glp = os.path.abspath(\"../code\")\n",
    "if not glp in sys.path: sys.path.append( glp )\n",
    "\n",
    "from global_paths import global_paths\n",
    "\n",
    "if not global_paths[\"COBS\"] in sys.path: sys.path.append( global_paths[\"COBS\"] )"
   ]
  },
  {
   "cell_type": "code",
   "execution_count": null,
   "id": "ideal-retention",
   "metadata": {},
   "outputs": [],
   "source": [
    "import cobs\n",
    "import torch\n",
    "import datetime\n",
    "import numpy as np\n",
    "import pandas as pd\n",
    "import matplotlib.pyplot as plt\n",
    "import subprocess"
   ]
  },
  {
   "cell_type": "code",
   "execution_count": null,
   "id": "ignored-oxide",
   "metadata": {},
   "outputs": [],
   "source": [
    "import StateUtilities as SU"
   ]
  },
  {
   "cell_type": "code",
   "execution_count": null,
   "id": "domestic-father",
   "metadata": {},
   "outputs": [],
   "source": [
    "import visualization_helper_v2 as vh"
   ]
  },
  {
   "cell_type": "code",
   "execution_count": null,
   "id": "fancy-compact",
   "metadata": {},
   "outputs": [],
   "source": []
  },
  {
   "cell_type": "code",
   "execution_count": null,
   "id": "experimental-royal",
   "metadata": {},
   "outputs": [],
   "source": [
    "fig_width = 16"
   ]
  },
  {
   "cell_type": "code",
   "execution_count": null,
   "id": "atlantic-operator",
   "metadata": {},
   "outputs": [],
   "source": [
    "dirnames = [\"../checkpoints/s112/20210429-1555/\",\n",
    "            \"../checkpoints/s112/20210429-1629/\",\n",
    "            \"../checkpoints/s112/20210429-1642/\"]"
   ]
  },
  {
   "cell_type": "code",
   "execution_count": null,
   "id": "continuing-packaging",
   "metadata": {},
   "outputs": [],
   "source": [
    "alldfs = [ vh.convert_sqlite_to_df(dirname) for dirname in dirnames ]"
   ]
  },
  {
   "cell_type": "code",
   "execution_count": null,
   "id": "9606a7d3",
   "metadata": {},
   "outputs": [],
   "source": [
    "q_values = vh.load_and_convert_q_values(dirnames)"
   ]
  },
  {
   "cell_type": "code",
   "execution_count": null,
   "id": "declared-grammar",
   "metadata": {},
   "outputs": [],
   "source": [
    "vh.get_arguments_overview(dirnames)"
   ]
  },
  {
   "cell_type": "code",
   "execution_count": null,
   "id": "1a60d7ea",
   "metadata": {},
   "outputs": [],
   "source": [
    "vh.get_runtime_overview_df(alldfs, dirnames)"
   ]
  },
  {
   "cell_type": "code",
   "execution_count": null,
   "id": "rotary-example",
   "metadata": {},
   "outputs": [],
   "source": [
    "p, _ = vh.complete_plot_epsilon(alldfs, fig_width)\n",
    "p.show()"
   ]
  },
  {
   "cell_type": "code",
   "execution_count": null,
   "id": "roman-richardson",
   "metadata": {},
   "outputs": [],
   "source": [
    "p, _ = vh.complete_plot_reward_stpc_econs(alldfs, fig_width)\n",
    "p.show()"
   ]
  },
  {
   "cell_type": "code",
   "execution_count": null,
   "id": "moved-virgin",
   "metadata": {},
   "outputs": [],
   "source": [
    "p, _ = vh.complete_plot_losses(alldfs, fig_width, with_agents=False)\n",
    "p.show()"
   ]
  },
  {
   "cell_type": "code",
   "execution_count": null,
   "id": "ff1d5978",
   "metadata": {},
   "outputs": [],
   "source": [
    "p, _ = vh.complete_plot_frobenius_norms(alldfs, fig_width, with_critics=False)\n",
    "p.show()"
   ]
  },
  {
   "cell_type": "code",
   "execution_count": null,
   "id": "sized-testimony",
   "metadata": {},
   "outputs": [],
   "source": [
    "last_available_eval_episodes = vh.compute_last_available_eval_episode(alldfs)"
   ]
  },
  {
   "cell_type": "markdown",
   "id": "disturbed-microphone",
   "metadata": {},
   "source": [
    "<h3>Details for one week</h3>"
   ]
  },
  {
   "cell_type": "code",
   "execution_count": null,
   "id": "engaging-belarus",
   "metadata": {},
   "outputs": [],
   "source": [
    "#selected_episodes = [13120 - 1, 14480 - 1, 14480 - 1]\n",
    "#selected_weeks    = [datetime.datetime(2017, 1, 1), datetime.datetime(2017, 1, 1), datetime.datetime(2017, 1, 1)]"
   ]
  },
  {
   "cell_type": "code",
   "execution_count": null,
   "id": "mysterious-remove",
   "metadata": {},
   "outputs": [],
   "source": [
    "if not \"selected_episodes\" in locals().keys():\n",
    "    selected_episodes = last_available_eval_episodes.copy()\n",
    "if not \"selected_weeks\" in locals().keys():\n",
    "    # the start of the evaluation episode\n",
    "    selected_weeks = [datetime.datetime.strptime(dfs['sees'].iloc[0][\"datetime\"], \"%Y-%m-%d %H:%M:%S\")\n",
    "                      for dfs in alldfs]\n",
    "\n",
    "subdfs = vh.select_week_and_episode_for_dfs_list(alldfs, selected_episodes, selected_weeks)"
   ]
  },
  {
   "cell_type": "code",
   "execution_count": null,
   "id": "front-ukraine",
   "metadata": {},
   "outputs": [],
   "source": [
    "vh.print_reward_informations(subdfs, selected_episodes)"
   ]
  },
  {
   "cell_type": "code",
   "execution_count": null,
   "id": "identical-appointment",
   "metadata": {},
   "outputs": [],
   "source": [
    "p, _ = vh.complete_plot_weather_information(subdfs, fig_width)\n",
    "p.show()"
   ]
  },
  {
   "cell_type": "code",
   "execution_count": null,
   "id": "faced-preference",
   "metadata": {},
   "outputs": [],
   "source": [
    "p, _ = vh.complete_plot_number_of_stp_ch(subdfs, fig_width)\n",
    "p.show()"
   ]
  },
  {
   "cell_type": "code",
   "execution_count": null,
   "id": "powerful-partition",
   "metadata": {},
   "outputs": [],
   "source": [
    "p, _ = vh.complete_plot_room_status(subdfs, fig_width)\n",
    "p.show()"
   ]
  },
  {
   "cell_type": "code",
   "execution_count": null,
   "id": "racial-vienna",
   "metadata": {},
   "outputs": [],
   "source": [
    "subdfs_rooms, subdfs_agents = vh.get_available_rooms_and_agents(subdfs)"
   ]
  },
  {
   "cell_type": "code",
   "execution_count": null,
   "id": "heated-slave",
   "metadata": {},
   "outputs": [],
   "source": [
    "p, _ = vh.complete_plot_all_agent_outputs(subdfs, fig_width, subdfs_agents)\n",
    "p.show()"
   ]
  },
  {
   "cell_type": "code",
   "execution_count": null,
   "id": "accepting-bryan",
   "metadata": {},
   "outputs": [],
   "source": [
    "p, _ = vh.complete_plot_total_overview(subdfs, fig_width, subdfs_rooms, subdfs_agents)\n",
    "p.show()"
   ]
  },
  {
   "cell_type": "markdown",
   "id": "empirical-forward",
   "metadata": {},
   "source": [
    "<h3>Details for a day</h3>"
   ]
  },
  {
   "cell_type": "code",
   "execution_count": null,
   "id": "arabic-navigator",
   "metadata": {},
   "outputs": [],
   "source": [
    "#selected_periods1    = [datetime.datetime(2017, 1, 3),\n",
    "#                        datetime.datetime(2017, 1, 3),\n",
    "#                        datetime.datetime(2017, 1, 3)]\n",
    "#selected_periods1_end= [datetime.datetime(2017, 1, 4),\n",
    "#                        datetime.datetime(2017, 1, 4),\n",
    "#                        datetime.datetime(2017, 1, 4)]"
   ]
  },
  {
   "cell_type": "code",
   "execution_count": null,
   "id": "durable-maple",
   "metadata": {},
   "outputs": [],
   "source": [
    "if not \"selected_periods1\" in locals().keys():\n",
    "    selected_periods1     = [datetime.datetime(2017, 1, 3) for _ in range(len(alldfs))]\n",
    "if not \"selected_periods1_end\" in locals().keys():\n",
    "    selected_periods1_end = [datetime.datetime(2017, 1, 4) for _ in range(len(alldfs))]\n",
    "\n",
    "subdfs = vh.select_week_and_episode_with_end_for_dfs_list(\n",
    "            alldfs,\n",
    "            selected_episodes,\n",
    "            selected_periods1,\n",
    "            selected_periods1_end)"
   ]
  },
  {
   "cell_type": "code",
   "execution_count": null,
   "id": "manual-survivor",
   "metadata": {},
   "outputs": [],
   "source": [
    "p, _ = vh.complete_plot_total_overview(subdfs, fig_width, subdfs_rooms, subdfs_agents)\n",
    "p.show()"
   ]
  },
  {
   "cell_type": "markdown",
   "id": "ad0f66b4",
   "metadata": {},
   "source": [
    "<h3>Details for a complete month</h3>"
   ]
  },
  {
   "cell_type": "code",
   "execution_count": null,
   "id": "operational-master",
   "metadata": {},
   "outputs": [],
   "source": [
    "#selected_periods2    = [datetime.datetime(2017, 1, 1),\n",
    "#                        datetime.datetime(2017, 1, 1),\n",
    "#                        datetime.datetime(2017, 1, 1)]"
   ]
  },
  {
   "cell_type": "code",
   "execution_count": null,
   "id": "88c79b4b",
   "metadata": {},
   "outputs": [],
   "source": [
    "if not \"selected_periods2\" in locals().keys():\n",
    "    selected_periods2     = [datetime.datetime(2017, 1, 1) for _ in range(len(alldfs))]\n",
    "selected_periods2_end = [datetime.datetime(2017, 1, 30) for _ in range(len(alldfs))]\n",
    "\n",
    "subdfs = vh.select_week_and_episode_with_end_for_dfs_list(\n",
    "            alldfs,\n",
    "            selected_episodes,\n",
    "            selected_periods2,\n",
    "            selected_periods2_end)"
   ]
  },
  {
   "cell_type": "code",
   "execution_count": null,
   "id": "0e3a850b",
   "metadata": {},
   "outputs": [],
   "source": [
    "vh.plot_stpch_and_econs_distrib(subdfs, fig_width)"
   ]
  },
  {
   "cell_type": "code",
   "execution_count": null,
   "id": "united-airplane",
   "metadata": {},
   "outputs": [],
   "source": [
    "for idx, sdfs in enumerate(subdfs):\n",
    "    p, _ = vh.complete_plot_total_overview(sdfs, fig_width,\n",
    "                                           subdfs_rooms[idx],\n",
    "                                           subdfs_agents[idx])\n",
    "    p.show()"
   ]
  },
  {
   "cell_type": "code",
   "execution_count": null,
   "id": "b807e2a5",
   "metadata": {},
   "outputs": [],
   "source": [
    "vh.plot_q_values(q_values, fig_width)"
   ]
  },
  {
   "cell_type": "code",
   "execution_count": null,
   "id": "hazardous-polish",
   "metadata": {},
   "outputs": [],
   "source": []
  }
 ],
 "metadata": {
  "kernelspec": {
   "display_name": "Python 3",
   "language": "python",
   "name": "python3"
  },
  "language_info": {
   "codemirror_mode": {
    "name": "ipython",
    "version": 3
   },
   "file_extension": ".py",
   "mimetype": "text/x-python",
   "name": "python",
   "nbconvert_exporter": "python",
   "pygments_lexer": "ipython3",
   "version": "3.7.3"
  }
 },
 "nbformat": 4,
 "nbformat_minor": 5
}
