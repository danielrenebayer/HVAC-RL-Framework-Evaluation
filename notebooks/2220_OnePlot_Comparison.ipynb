{
 "cells": [
  {
   "cell_type": "code",
   "execution_count": 1,
   "id": "5dbe73d5",
   "metadata": {},
   "outputs": [],
   "source": [
    "import os\n",
    "import sys\n",
    "import ast\n",
    "import pickle\n",
    "\n",
    "glp = os.path.abspath(\"../code\")\n",
    "if not glp in sys.path: sys.path.append( glp )\n",
    "\n",
    "from global_paths import global_paths\n",
    "\n",
    "if not global_paths[\"COBS\"] in sys.path: sys.path.append( global_paths[\"COBS\"] )\n",
    "import StateUtilities as SU"
   ]
  },
  {
   "cell_type": "code",
   "execution_count": 2,
   "id": "8bbdd165",
   "metadata": {},
   "outputs": [],
   "source": [
    "import cobs\n",
    "import torch\n",
    "import datetime\n",
    "import numpy as np\n",
    "import pandas as pd\n",
    "import matplotlib.pyplot as plt\n",
    "import subprocess"
   ]
  },
  {
   "cell_type": "code",
   "execution_count": 3,
   "id": "025fa3e8",
   "metadata": {},
   "outputs": [],
   "source": [
    "import visualization_helper_v2 as vh"
   ]
  },
  {
   "cell_type": "code",
   "execution_count": null,
   "id": "0cb61be8",
   "metadata": {},
   "outputs": [],
   "source": []
  },
  {
   "cell_type": "code",
   "execution_count": 4,
   "id": "0b766c7c",
   "metadata": {},
   "outputs": [],
   "source": [
    "rundir = {\n",
    "    \"../checkpoints/b001\": \"Baseline\",\n",
    "\n",
    "    \"../checkpoints/s302-ln/20210611-1800/\": \"S1\",\n",
    "    \"../checkpoints/s302-ln/20210612-1948/\": \"S1\",\n",
    "\n",
    "    \"../checkpoints/s314-no-shared/20210615-1332/\": \"S2\",\n",
    "\n",
    "    \"../checkpoints/s314/20210613-0839/\": \"S3\",\n",
    "\n",
    "    \"../checkpoints/s151/20210616-1555_ch_rwd_fn/\": \"S4\",\n",
    "\n",
    "    \"../checkpoints/s313/20210612-1008/\": \"S5\",\n",
    "    \"../checkpoints/s313/20210615-1523/\": \"S5\",\n",
    "    \"../checkpoints/s313-newlambda/20210615-1529/\": \"S5-2\",\n",
    "    \"../checkpoints/s313-newlambda/20210617-1856/\": \"S5-2\",\n",
    "    \"../checkpoints/s313-newlambda2/20210617-1140/\": \"S5-3\",\n",
    "    \"../checkpoints/s313-newlambda2/20210617-1144/\": \"S5-3\",\n",
    "    \"../checkpoints/s313-newlambda2/20210617-1855/\": \"S5-3\",\n",
    "\n",
    "    \"../checkpoints/s311/20210611-1808/\": \"S6\",\n",
    "    \"../checkpoints/s311/20210612-1007/\": \"S6\",\n",
    "    \"../checkpoints/s311-newlambda/20210615-1529/\": \"S6-2\",\n",
    "    \"../checkpoints/s311-newlambda/20210617-1856/\": \"S6-2\",\n",
    "    \"../checkpoints/s311-newlambda2/20210619-0956/\": \"S6-3\",\n",
    "    \"../checkpoints/s311-newlambda2/20210619-1926/\": \"S6-3\"\n",
    "}"
   ]
  },
  {
   "cell_type": "code",
   "execution_count": 5,
   "id": "dcc9f849",
   "metadata": {},
   "outputs": [],
   "source": [
    "colortable = {\n",
    "    \"Baseline\": \"k\",\n",
    "    \"S1\": \"crimson\",\n",
    "    \"S2\": \"magenta\",\n",
    "    \"S3\": \"blueviolet\",\n",
    "    \"S4\": \"pink\",\n",
    "    \"S5\": \"blue\",\n",
    "    \"S5-2\": \"dodgerblue\",\n",
    "    \"S5-3\": \"aqua\",\n",
    "    \"S6\": \"yellowgreen\",\n",
    "    \"S6-2\": \"darkorange\",\n",
    "    \"S6-3\": \"chocolate\"\n",
    "}"
   ]
  },
  {
   "cell_type": "code",
   "execution_count": null,
   "id": "4f4ef14a",
   "metadata": {},
   "outputs": [],
   "source": []
  },
  {
   "cell_type": "code",
   "execution_count": 6,
   "id": "332962ac",
   "metadata": {},
   "outputs": [],
   "source": [
    "dirnames = list(rundir.keys())"
   ]
  },
  {
   "cell_type": "code",
   "execution_count": 7,
   "id": "e0e0edcf",
   "metadata": {},
   "outputs": [
    {
     "name": "stdout",
     "output_type": "stream",
     "text": [
      "Table eels convertet to a pandas dataframe.\n",
      "Table sees convertet to a pandas dataframe.\n",
      "Table seesea convertet to a pandas dataframe.\n",
      "Table sees_er convertet to a pandas dataframe.\n",
      "Table eels convertet to a pandas dataframe.\n",
      "Table sees convertet to a pandas dataframe.\n",
      "Table seesea convertet to a pandas dataframe.\n",
      "Table sees_er convertet to a pandas dataframe.\n",
      "Table eels convertet to a pandas dataframe.\n",
      "Table sees convertet to a pandas dataframe.\n",
      "Table seesea convertet to a pandas dataframe.\n",
      "Table sees_er convertet to a pandas dataframe.\n",
      "Table eels convertet to a pandas dataframe.\n",
      "Table sees convertet to a pandas dataframe.\n",
      "Table seesea convertet to a pandas dataframe.\n",
      "Table sees_er convertet to a pandas dataframe.\n",
      "Table eels convertet to a pandas dataframe.\n",
      "Table sees convertet to a pandas dataframe.\n",
      "Table seesea convertet to a pandas dataframe.\n",
      "Table sees_er convertet to a pandas dataframe.\n",
      "Table eels convertet to a pandas dataframe.\n",
      "Table sees convertet to a pandas dataframe.\n",
      "Table seesea convertet to a pandas dataframe.\n",
      "Table sees_er convertet to a pandas dataframe.\n",
      "Table eels convertet to a pandas dataframe.\n",
      "Table sees convertet to a pandas dataframe.\n",
      "Table seesea convertet to a pandas dataframe.\n",
      "Table sees_er convertet to a pandas dataframe.\n",
      "Table eels convertet to a pandas dataframe.\n",
      "Table sees convertet to a pandas dataframe.\n",
      "Table seesea convertet to a pandas dataframe.\n",
      "Table sees_er convertet to a pandas dataframe.\n",
      "Table eels convertet to a pandas dataframe.\n",
      "Table sees convertet to a pandas dataframe.\n",
      "Table seesea convertet to a pandas dataframe.\n",
      "Table sees_er convertet to a pandas dataframe.\n",
      "Table eels convertet to a pandas dataframe.\n",
      "Table sees convertet to a pandas dataframe.\n",
      "Table seesea convertet to a pandas dataframe.\n",
      "Table sees_er convertet to a pandas dataframe.\n",
      "Table eels convertet to a pandas dataframe.\n",
      "Table sees convertet to a pandas dataframe.\n",
      "Table seesea convertet to a pandas dataframe.\n",
      "Table sees_er convertet to a pandas dataframe.\n",
      "Table eels convertet to a pandas dataframe.\n",
      "Table sees convertet to a pandas dataframe.\n",
      "Table seesea convertet to a pandas dataframe.\n",
      "Table sees_er convertet to a pandas dataframe.\n",
      "Table eels convertet to a pandas dataframe.\n",
      "Table sees convertet to a pandas dataframe.\n",
      "Table seesea convertet to a pandas dataframe.\n",
      "Table sees_er convertet to a pandas dataframe.\n",
      "Table eels convertet to a pandas dataframe.\n",
      "Table sees convertet to a pandas dataframe.\n",
      "Table seesea convertet to a pandas dataframe.\n",
      "Table sees_er convertet to a pandas dataframe.\n",
      "Table eels convertet to a pandas dataframe.\n",
      "Table sees convertet to a pandas dataframe.\n",
      "Table seesea convertet to a pandas dataframe.\n",
      "Table sees_er convertet to a pandas dataframe.\n",
      "Table eels convertet to a pandas dataframe.\n",
      "Table sees convertet to a pandas dataframe.\n",
      "Table seesea convertet to a pandas dataframe.\n",
      "Table sees_er convertet to a pandas dataframe.\n",
      "Table eels convertet to a pandas dataframe.\n",
      "Table sees convertet to a pandas dataframe.\n",
      "Table seesea convertet to a pandas dataframe.\n",
      "Table sees_er convertet to a pandas dataframe.\n",
      "Table eels convertet to a pandas dataframe.\n",
      "Table sees convertet to a pandas dataframe.\n",
      "Table seesea convertet to a pandas dataframe.\n",
      "Table sees_er convertet to a pandas dataframe.\n",
      "Table eels convertet to a pandas dataframe.\n",
      "Table sees convertet to a pandas dataframe.\n",
      "Table seesea convertet to a pandas dataframe.\n",
      "Table sees_er convertet to a pandas dataframe.\n"
     ]
    }
   ],
   "source": [
    "alldfs = [ vh.convert_sqlite_to_df(dirname) for dirname in dirnames ]"
   ]
  },
  {
   "cell_type": "code",
   "execution_count": 8,
   "id": "349e9593",
   "metadata": {},
   "outputs": [
    {
     "name": "stdout",
     "output_type": "stream",
     "text": [
      "Last available evaluation episode for dfs0:      0\n",
      "Last available evaluation episode for dfs1:  11679\n",
      "Last available evaluation episode for dfs2:  15999\n",
      "Last available evaluation episode for dfs3:  15624\n",
      "Last available evaluation episode for dfs4:  37499\n",
      "Last available evaluation episode for dfs5:  17999\n",
      "Last available evaluation episode for dfs6:  24999\n",
      "Last available evaluation episode for dfs7:  24999\n",
      "Last available evaluation episode for dfs8:  24999\n",
      "Last available evaluation episode for dfs9:  24999\n",
      "Last available evaluation episode for dfs10:  24999\n",
      "Last available evaluation episode for dfs11:  24999\n",
      "Last available evaluation episode for dfs12:  24999\n",
      "Last available evaluation episode for dfs13:  10799\n",
      "Last available evaluation episode for dfs14:  24999\n",
      "Last available evaluation episode for dfs15:  24999\n",
      "Last available evaluation episode for dfs16:  24999\n",
      "Last available evaluation episode for dfs17:  24999\n",
      "Last available evaluation episode for dfs18:  24999\n"
     ]
    }
   ],
   "source": [
    "last_available_eval_episodes = vh.compute_last_available_eval_episode(alldfs)"
   ]
  },
  {
   "cell_type": "code",
   "execution_count": 9,
   "id": "f3edf984",
   "metadata": {},
   "outputs": [],
   "source": [
    "if not \"selected_episodes\" in locals().keys():\n",
    "    selected_episodes = last_available_eval_episodes.copy()\n",
    "if not \"selected_weeks\" in locals().keys():\n",
    "    # the start of the evaluation episode\n",
    "    selected_weeks = [datetime.datetime.strptime(dfs['sees'].iloc[0][\"datetime\"], \"%Y-%m-%d %H:%M:%S\")\n",
    "                      for dfs in alldfs]\n",
    "\n",
    "subdfs = vh.select_week_and_episode_for_dfs_list(alldfs, selected_episodes, selected_weeks)"
   ]
  },
  {
   "cell_type": "code",
   "execution_count": 10,
   "id": "19f7f1d4",
   "metadata": {},
   "outputs": [],
   "source": [
    "econs_mstpc_list = vh.output_reward_informations(subdfs, selected_episodes)\n",
    "econs_mstpc_np = np.array(econs_mstpc_list)\n",
    "label_entries = list(rundir.values())"
   ]
  },
  {
   "cell_type": "code",
   "execution_count": 11,
   "id": "82996b19",
   "metadata": {},
   "outputs": [
    {
     "data": {
      "text/plain": [
       "<matplotlib.legend.Legend at 0x7f7899dfcbe0>"
      ]
     },
     "execution_count": 11,
     "metadata": {},
     "output_type": "execute_result"
    },
    {
     "data": {
      "image/png": "[encoded data removed]",
      "text/plain": [
       "<Figure size 432x288 with 1 Axes>"
      ]
     },
     "metadata": {
      "needs_background": "light"
     },
     "output_type": "display_data"
    }
   ],
   "source": [
    "plt.scatter(x = econs_mstpc_np[1:,0], y = econs_mstpc_np[1:,1], label=label_entries[1:])\n",
    "plt.xlabel(\"Energy Consumption in kWh\")\n",
    "plt.ylabel(\"Sum of setpoint change magnitudes\")\n",
    "plt.scatter(x = [econs_mstpc_np[0,0]], y = [econs_mstpc_np[0,1]], color='k', label=\"Baseline\")\n",
    "plt.axvline(x = econs_mstpc_np[0,0], color='k', linestyle='--')\n",
    "plt.axhline(y = econs_mstpc_np[0,1], color='k', linestyle='--')\n",
    "plt.legend()"
   ]
  },
  {
   "cell_type": "code",
   "execution_count": 12,
   "id": "effd756d",
   "metadata": {},
   "outputs": [],
   "source": [
    "econs_mstpc_list = vh.output_reward_informations(subdfs, selected_episodes)\n",
    "econs_mstpc_df = pd.DataFrame(econs_mstpc_list)\n",
    "label_entries = list(rundir.values())\n",
    "econs_mstpc_df.columns = ['Energy consumption in kWh', \"Sum of setpoint change magnitudes\"]\n",
    "econs_mstpc_df[\"label\"] = label_entries"
   ]
  },
  {
   "cell_type": "code",
   "execution_count": 19,
   "id": "d7fa7419",
   "metadata": {},
   "outputs": [
    {
     "data": {
      "image/png": "[encoded data removed]",
      "text/plain": [
       "<Figure size 504x324 with 1 Axes>"
      ]
     },
     "metadata": {
      "needs_background": "light"
     },
     "output_type": "display_data"
    }
   ],
   "source": [
    "plt.figure(figsize=(7,4.5))\n",
    "plt.xlabel(\"Energy consumption in kWh\")\n",
    "plt.ylabel(\"Sum of setpoint change magnitudes\")\n",
    "#plt.scatter(x = [econs_mstpc_np[0,0]], y = [econs_mstpc_np[0,1]], color='k', label=\"Baseline\")\n",
    "plt.axvline(x = econs_mstpc_np[0,0], color='k', linestyle='--')\n",
    "plt.axhline(y = econs_mstpc_np[0,1], color='k', linestyle='--')\n",
    "\n",
    "for ulabel in econs_mstpc_df[\"label\"].unique():\n",
    "    emloc = econs_mstpc_df.loc[ econs_mstpc_df[\"label\"] == ulabel ]\n",
    "    plt.scatter(x = emloc[\"Energy consumption in kWh\"],\n",
    "                y = emloc[\"Sum of setpoint change magnitudes\"],\n",
    "                label=ulabel,\n",
    "                color=colortable[ulabel],\n",
    "                s=77)\n",
    "\n",
    "plt.legend()\n",
    "plt.tight_layout()\n",
    "plt.savefig(\"saved_plots/comparison_as_scatternplot.png\")\n",
    "plt.savefig(\"saved_plots/comparison_as_scatternplot.pdf\")"
   ]
  },
  {
   "cell_type": "code",
   "execution_count": 20,
   "id": "32edc824",
   "metadata": {},
   "outputs": [
    {
     "data": {
      "text/html": [
       "<div>\n",
       "<style scoped>\n",
       "    .dataframe tbody tr th:only-of-type {\n",
       "        vertical-align: middle;\n",
       "    }\n",
       "\n",
       "    .dataframe tbody tr th {\n",
       "        vertical-align: top;\n",
       "    }\n",
       "\n",
       "    .dataframe thead th {\n",
       "        text-align: right;\n",
       "    }\n",
       "</style>\n",
       "<table border=\"1\" class=\"dataframe\">\n",
       "  <thead>\n",
       "    <tr style=\"text-align: right;\">\n",
       "      <th></th>\n",
       "      <th>Energy consumption in kWh</th>\n",
       "      <th>Sum of setpoint change magnitudes</th>\n",
       "      <th>label</th>\n",
       "    </tr>\n",
       "  </thead>\n",
       "  <tbody>\n",
       "    <tr>\n",
       "      <th>0</th>\n",
       "      <td>38042.138368</td>\n",
       "      <td>426.881189</td>\n",
       "      <td>Baseline</td>\n",
       "    </tr>\n",
       "    <tr>\n",
       "      <th>1</th>\n",
       "      <td>37463.167738</td>\n",
       "      <td>303.030427</td>\n",
       "      <td>S1</td>\n",
       "    </tr>\n",
       "    <tr>\n",
       "      <th>2</th>\n",
       "      <td>37760.380616</td>\n",
       "      <td>269.994678</td>\n",
       "      <td>S1</td>\n",
       "    </tr>\n",
       "    <tr>\n",
       "      <th>3</th>\n",
       "      <td>35344.074920</td>\n",
       "      <td>1354.183672</td>\n",
       "      <td>S2</td>\n",
       "    </tr>\n",
       "    <tr>\n",
       "      <th>4</th>\n",
       "      <td>30555.398464</td>\n",
       "      <td>970.549086</td>\n",
       "      <td>S3</td>\n",
       "    </tr>\n",
       "    <tr>\n",
       "      <th>5</th>\n",
       "      <td>40118.108442</td>\n",
       "      <td>458.136458</td>\n",
       "      <td>S4</td>\n",
       "    </tr>\n",
       "    <tr>\n",
       "      <th>6</th>\n",
       "      <td>33888.522535</td>\n",
       "      <td>1146.741711</td>\n",
       "      <td>S5</td>\n",
       "    </tr>\n",
       "    <tr>\n",
       "      <th>7</th>\n",
       "      <td>33302.001504</td>\n",
       "      <td>1088.412385</td>\n",
       "      <td>S5</td>\n",
       "    </tr>\n",
       "    <tr>\n",
       "      <th>8</th>\n",
       "      <td>36363.633230</td>\n",
       "      <td>655.032493</td>\n",
       "      <td>S5-2</td>\n",
       "    </tr>\n",
       "    <tr>\n",
       "      <th>9</th>\n",
       "      <td>32826.404177</td>\n",
       "      <td>599.162905</td>\n",
       "      <td>S5-2</td>\n",
       "    </tr>\n",
       "    <tr>\n",
       "      <th>10</th>\n",
       "      <td>37274.584057</td>\n",
       "      <td>501.880370</td>\n",
       "      <td>S5-3</td>\n",
       "    </tr>\n",
       "    <tr>\n",
       "      <th>11</th>\n",
       "      <td>35267.169350</td>\n",
       "      <td>487.260180</td>\n",
       "      <td>S5-3</td>\n",
       "    </tr>\n",
       "    <tr>\n",
       "      <th>12</th>\n",
       "      <td>34823.560236</td>\n",
       "      <td>489.882552</td>\n",
       "      <td>S5-3</td>\n",
       "    </tr>\n",
       "    <tr>\n",
       "      <th>13</th>\n",
       "      <td>39705.613411</td>\n",
       "      <td>414.909761</td>\n",
       "      <td>S6</td>\n",
       "    </tr>\n",
       "    <tr>\n",
       "      <th>14</th>\n",
       "      <td>30322.533884</td>\n",
       "      <td>976.763922</td>\n",
       "      <td>S6</td>\n",
       "    </tr>\n",
       "    <tr>\n",
       "      <th>15</th>\n",
       "      <td>36169.869891</td>\n",
       "      <td>500.908054</td>\n",
       "      <td>S6-2</td>\n",
       "    </tr>\n",
       "    <tr>\n",
       "      <th>16</th>\n",
       "      <td>33087.583179</td>\n",
       "      <td>663.723893</td>\n",
       "      <td>S6-2</td>\n",
       "    </tr>\n",
       "    <tr>\n",
       "      <th>17</th>\n",
       "      <td>36962.063789</td>\n",
       "      <td>452.642592</td>\n",
       "      <td>S6-3</td>\n",
       "    </tr>\n",
       "    <tr>\n",
       "      <th>18</th>\n",
       "      <td>35705.716328</td>\n",
       "      <td>491.129539</td>\n",
       "      <td>S6-3</td>\n",
       "    </tr>\n",
       "  </tbody>\n",
       "</table>\n",
       "</div>"
      ],
      "text/plain": [
       "    Energy consumption in kWh  Sum of setpoint change magnitudes     label\n",
       "0                38042.138368                         426.881189  Baseline\n",
       "1                37463.167738                         303.030427        S1\n",
       "2                37760.380616                         269.994678        S1\n",
       "3                35344.074920                        1354.183672        S2\n",
       "4                30555.398464                         970.549086        S3\n",
       "5                40118.108442                         458.136458        S4\n",
       "6                33888.522535                        1146.741711        S5\n",
       "7                33302.001504                        1088.412385        S5\n",
       "8                36363.633230                         655.032493      S5-2\n",
       "9                32826.404177                         599.162905      S5-2\n",
       "10               37274.584057                         501.880370      S5-3\n",
       "11               35267.169350                         487.260180      S5-3\n",
       "12               34823.560236                         489.882552      S5-3\n",
       "13               39705.613411                         414.909761        S6\n",
       "14               30322.533884                         976.763922        S6\n",
       "15               36169.869891                         500.908054      S6-2\n",
       "16               33087.583179                         663.723893      S6-2\n",
       "17               36962.063789                         452.642592      S6-3\n",
       "18               35705.716328                         491.129539      S6-3"
      ]
     },
     "execution_count": 20,
     "metadata": {},
     "output_type": "execute_result"
    }
   ],
   "source": [
    "econs_mstpc_df"
   ]
  },
  {
   "cell_type": "code",
   "execution_count": null,
   "id": "483d1f34",
   "metadata": {},
   "outputs": [],
   "source": []
  }
 ],
 "metadata": {
  "kernelspec": {
   "display_name": "Python 3",
   "language": "python",
   "name": "python3"
  },
  "language_info": {
   "codemirror_mode": {
    "name": "ipython",
    "version": 3
   },
   "file_extension": ".py",
   "mimetype": "text/x-python",
   "name": "python",
   "nbconvert_exporter": "python",
   "pygments_lexer": "ipython3",
   "version": "3.7.3"
  }
 },
 "nbformat": 4,
 "nbformat_minor": 5
}
