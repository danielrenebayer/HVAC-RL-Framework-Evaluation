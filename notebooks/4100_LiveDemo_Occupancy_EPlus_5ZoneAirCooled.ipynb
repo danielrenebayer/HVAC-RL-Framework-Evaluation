{
 "cells": [
  {
   "cell_type": "code",
   "execution_count": 1,
   "id": "threaded-working",
   "metadata": {},
   "outputs": [],
   "source": [
    "import os\n",
    "import sys\n",
    "import shutil\n",
    "\n",
    "glp = os.path.abspath(\"../code\")\n",
    "if not glp in sys.path: sys.path.append( glp )\n",
    "\n",
    "from global_paths import global_paths\n",
    "\n",
    "if not global_paths[\"COBS\"] in sys.path: sys.path.append( global_paths[\"COBS\"] )"
   ]
  },
  {
   "cell_type": "code",
   "execution_count": 2,
   "id": "genetic-thursday",
   "metadata": {},
   "outputs": [],
   "source": [
    "import cobs\n",
    "import torch\n",
    "import datetime\n",
    "import argparse\n",
    "import numpy as np\n",
    "import pandas as pd\n",
    "import matplotlib.pyplot as plt\n",
    "#from copy import deepcopy"
   ]
  },
  {
   "cell_type": "code",
   "execution_count": 3,
   "id": "broadband-supplement",
   "metadata": {},
   "outputs": [],
   "source": [
    "from BuildingOccupancy import Person, Meeting, BuildingOccupancyAsMatrix, BuildingOccupancy\n",
    "import DefaultBuildings\n",
    "from Agents import agent_constructor\n",
    "#from CentralController import ddpg_episode_mc\n",
    "import RLCritics\n",
    "import StateUtilities as SU\n",
    "from Options import get_argparser\n",
    "from ReplayBuffer import ReplayBufferStd"
   ]
  },
  {
   "cell_type": "markdown",
   "id": "gross-vulnerability",
   "metadata": {},
   "source": [
    "Documentation: https://cobs-platform.github.io/"
   ]
  },
  {
   "cell_type": "code",
   "execution_count": 4,
   "id": "satellite-input",
   "metadata": {},
   "outputs": [],
   "source": [
    "args = get_argparser().parse_args([\n",
    "        \"--algorithm\", \"ddqn\",\n",
    "        \"--idf_file\",  \"\",\n",
    "        \"--epw_file\",  os.path.abspath(\"../../COBS/cobs/data/weathers/8.epw\"),\n",
    "        \"--checkpoint_dir\", \"/tmp\",\n",
    "        \"--shared_network_per_agent_class\",\n",
    "        \"--number_occupants\", \"40\",\n",
    "        \"--ts_per_hour\", \"1\",\n",
    "        \"--episode_start_month\", \"1\"\n",
    "    ])"
   ]
  },
  {
   "cell_type": "markdown",
   "id": "2340f6a7",
   "metadata": {},
   "source": [
    "Helper functions"
   ]
  },
  {
   "cell_type": "code",
   "execution_count": 26,
   "id": "worst-quest",
   "metadata": {},
   "outputs": [],
   "source": [
    "year      = 2017\n",
    "month     = args.episode_start_month\n",
    "start_day = datetime.date(year, month, 1)\n",
    "while start_day.weekday() > 0:\n",
    "    start_day += datetime.timedelta(days=1)\n",
    "start_day = start_day.day\n",
    "start_dto = datetime.datetime(year, month, start_day)\n",
    "dto       = datetime.datetime(year, month, start_day)\n",
    "dto_lst   = []\n",
    "\n",
    "time_resolution = datetime.timedelta(minutes = 60 // args.ts_per_hour)\n",
    "while (dto - start_dto).days < 7:\n",
    "    #dto_lst.append(dto.strftime(\"%a.\\n%H:%M\"))\n",
    "    dto_lst.append(dto.strftime(\"%a. %H:%M\"))\n",
    "    dto += time_resolution"
   ]
  },
  {
   "cell_type": "code",
   "execution_count": 28,
   "id": "59af174a",
   "metadata": {},
   "outputs": [],
   "source": [
    "def yticks_rooms(yt):\n",
    "    yt([0,1,2,3,4], [f\"SPACE {i}\" for i in range(1,6)])\n",
    "def xticks_time(xt, xlim):\n",
    "    positions, _ = xt()\n",
    "    limits = xlim()\n",
    "    labels = []\n",
    "    for pos in positions:\n",
    "        if pos >= 0 and pos < len(dto_lst):\n",
    "            labels.append(dto_lst[int(pos)])\n",
    "        else:\n",
    "            labels.append(\"\")\n",
    "    xt(positions, labels, rotation=-45, ha=\"left\")\n",
    "    #xt(positions, labels)\n",
    "    xlim(limits)\n",
    "def xticks_time_more_labels(xt, xlim, min_pos, max_pos, n_labels):\n",
    "    positions = np.linspace(min_pos, max_pos, n_labels)\n",
    "    limits = xlim()\n",
    "    labels = []\n",
    "    for pos in positions:\n",
    "        if pos >= 0 and pos < len(dto_lst):\n",
    "            labels.append(dto_lst[int(pos)])\n",
    "        else:\n",
    "            labels.append(\"\")\n",
    "    xt(positions, labels, rotation=-45, ha=\"left\")\n",
    "    #xt(positions, labels)\n",
    "    xlim(limits)"
   ]
  },
  {
   "cell_type": "markdown",
   "id": "described-guitar",
   "metadata": {},
   "source": [
    "<h3>Define the model</h3>"
   ]
  },
  {
   "cell_type": "code",
   "execution_count": 7,
   "id": "center-vermont",
   "metadata": {},
   "outputs": [],
   "source": [
    "cobs.Model.set_energyplus_folder(global_paths[\"eplus\"])"
   ]
  },
  {
   "cell_type": "code",
   "execution_count": 8,
   "id": "excess-ordinance",
   "metadata": {},
   "outputs": [],
   "source": [
    "building = DefaultBuildings.Building_5ZoneAirCooled_SingleSetpoint(args)"
   ]
  },
  {
   "cell_type": "code",
   "execution_count": 9,
   "id": "elder-germany",
   "metadata": {},
   "outputs": [],
   "source": [
    "building_occ = BuildingOccupancyAsMatrix(args, building)"
   ]
  },
  {
   "cell_type": "code",
   "execution_count": 10,
   "id": "consecutive-updating",
   "metadata": {},
   "outputs": [
    {
     "data": {
      "text/plain": [
       "(168, 31, 5)"
      ]
     },
     "execution_count": 10,
     "metadata": {},
     "output_type": "execute_result"
    }
   ],
   "source": [
    "building_occ.schedule_table.shape"
   ]
  },
  {
   "cell_type": "code",
   "execution_count": 11,
   "id": "cathedral-output",
   "metadata": {},
   "outputs": [
    {
     "data": {
      "text/plain": [
       "Text(0, 0.5, 'Occupant ID')"
      ]
     },
     "execution_count": 11,
     "metadata": {},
     "output_type": "execute_result"
    },
    {
     "data": {
      "image/png": "[encoded data removed]",
      "text/plain": [
       "<Figure size 1080x576 with 1 Axes>"
      ]
     },
     "metadata": {
      "needs_background": "light"
     },
     "output_type": "display_data"
    }
   ],
   "source": [
    "plt.figure(figsize=(15,8))\n",
    "plt.imshow(building_occ.schedule_table.sum(axis=2).T)\n",
    "plt.xlabel(\"Time\")\n",
    "plt.ylabel(\"Occupant ID\")\n",
    "#plt.colorbar()\n",
    "# occupancy per person"
   ]
  },
  {
   "cell_type": "code",
   "execution_count": 12,
   "id": "posted-comparative",
   "metadata": {},
   "outputs": [
    {
     "data": {
      "text/plain": [
       "Text(0, 0.5, 'Room ID')"
      ]
     },
     "execution_count": 12,
     "metadata": {},
     "output_type": "execute_result"
    },
    {
     "data": {
      "image/png": "[encoded data removed]",
      "text/plain": [
       "<Figure size 1080x576 with 1 Axes>"
      ]
     },
     "metadata": {
      "needs_background": "light"
     },
     "output_type": "display_data"
    }
   ],
   "source": [
    "plt.figure(figsize=(15,8))\n",
    "plt.imshow(building_occ.schedule_table[10].T)\n",
    "plt.xlabel(\"Occupant ID\")\n",
    "plt.ylabel(\"Room ID\")\n",
    "# occupancy at time step 10 (rooms on y, persons on x)"
   ]
  },
  {
   "cell_type": "code",
   "execution_count": 13,
   "id": "intense-airport",
   "metadata": {},
   "outputs": [
    {
     "data": {
      "text/plain": [
       "array([ 1.,  2., 11.,  5., 13.])"
      ]
     },
     "execution_count": 13,
     "metadata": {},
     "output_type": "execute_result"
    }
   ],
   "source": [
    "people_in_rooms = building_occ.schedule_table[10].sum(axis=0)\n",
    "people_in_rooms.clip(min=1)"
   ]
  },
  {
   "cell_type": "code",
   "execution_count": 14,
   "id": "laughing-article",
   "metadata": {},
   "outputs": [
    {
     "data": {
      "text/plain": [
       "array([ 4.,  5., 11.,  5., 20.])"
      ]
     },
     "execution_count": 14,
     "metadata": {},
     "output_type": "execute_result"
    }
   ],
   "source": [
    "building_occ.schedule_table.sum(axis=1).max(axis=0)"
   ]
  },
  {
   "cell_type": "code",
   "execution_count": 48,
   "id": "05f7fbc3",
   "metadata": {},
   "outputs": [
    {
     "data": {
      "image/png": "[encoded data removed]",
      "text/plain": [
       "<Figure size 720x288 with 2 Axes>"
      ]
     },
     "metadata": {
      "needs_background": "light"
     },
     "output_type": "display_data"
    }
   ],
   "source": [
    "# occupancy per room\n",
    "plt.figure(figsize=(10,4))\n",
    "plt.imshow(building_occ.schedule_table.sum(axis=1).T, aspect=\"auto\", cmap=\"YlGn\")#cmap='jet') #YlOrRd\n",
    "yticks_rooms(plt.yticks)\n",
    "#xticks_time(plt.xticks, plt.xlim)\n",
    "xticks_time_more_labels(plt.xticks, plt.xlim, 0, 160, 18)\n",
    "plt.xlabel(\"\")\n",
    "plt.ylabel(\"\")\n",
    "plt.colorbar()#extend='both', shrink=0.95)\n",
    "a = plt.gca()\n",
    "for item in ([a.title, a.xaxis.label, a.yaxis.label] +\n",
    "                 a.get_xticklabels() + a.get_yticklabels()):\n",
    "    item.set_fontsize(13)\n",
    "plt.tight_layout()\n",
    "#plt.savefig(\"saved_plots/Occupancy_Matrix_pdf.pdf\")\n",
    "#plt.savefig(\"saved_plots/Occupancy_Matrix_png.png\")"
   ]
  },
  {
   "cell_type": "code",
   "execution_count": null,
   "id": "c3586169",
   "metadata": {},
   "outputs": [],
   "source": []
  },
  {
   "cell_type": "code",
   "execution_count": 49,
   "id": "d95e7d58",
   "metadata": {},
   "outputs": [
    {
     "data": {
      "text/plain": [
       "<matplotlib.colorbar.Colorbar at 0x7f2d1048f048>"
      ]
     },
     "execution_count": 49,
     "metadata": {},
     "output_type": "execute_result"
    },
    {
     "data": {
      "image/png": "[encoded data removed]",
      "text/plain": [
       "<Figure size 1080x432 with 2 Axes>"
      ]
     },
     "metadata": {
      "needs_background": "light"
     },
     "output_type": "display_data"
    }
   ],
   "source": [
    "# occupancy per room\n",
    "# ONLY ON MONDAY\n",
    "plt.figure(figsize=(15,6))\n",
    "plt.imshow(building_occ.schedule_table[0:24,:,:].sum(axis=1).T, aspect=\"auto\", cmap='jet')\n",
    "plt.colorbar()"
   ]
  },
  {
   "cell_type": "code",
   "execution_count": null,
   "id": "right-madonna",
   "metadata": {},
   "outputs": [],
   "source": []
  },
  {
   "cell_type": "code",
   "execution_count": 50,
   "id": "reported-comparison",
   "metadata": {},
   "outputs": [
    {
     "data": {
      "text/plain": [
       "<matplotlib.colorbar.Colorbar at 0x7f2d104b8e80>"
      ]
     },
     "execution_count": 50,
     "metadata": {},
     "output_type": "execute_result"
    },
    {
     "data": {
      "image/png": "[encoded data removed]",
      "text/plain": [
       "<Figure size 1080x216 with 2 Axes>"
      ]
     },
     "metadata": {
      "needs_background": "light"
     },
     "output_type": "display_data"
    }
   ],
   "source": [
    "plt.figure(figsize=(15,3))\n",
    "plt.imshow(building_occ.occupants[:,np.newaxis].T, aspect=\"auto\", cmap='jet')\n",
    "plt.colorbar()"
   ]
  },
  {
   "cell_type": "code",
   "execution_count": 51,
   "id": "strategic-wheel",
   "metadata": {},
   "outputs": [
    {
     "data": {
      "text/plain": [
       "(31.0,\n",
       " 28.03846153846154,\n",
       " {'SPACE2-1': 22.0,\n",
       "  'SPACE3-1': 21.0,\n",
       "  'SPACE4-1': 24.5,\n",
       "  'SPACE5-1': 20.53846153846154})"
      ]
     },
     "execution_count": 51,
     "metadata": {},
     "output_type": "execute_result"
    }
   ],
   "source": [
    "building_occ.manual_setpoint_changes(datetime.datetime(2017,1,2,10,15), {room:15 for room in building.room_names}, None)"
   ]
  },
  {
   "cell_type": "code",
   "execution_count": null,
   "id": "interested-austin",
   "metadata": {},
   "outputs": [],
   "source": []
  },
  {
   "cell_type": "code",
   "execution_count": null,
   "id": "minor-summer",
   "metadata": {},
   "outputs": [],
   "source": []
  }
 ],
 "metadata": {
  "kernelspec": {
   "display_name": "Python 3",
   "language": "python",
   "name": "python3"
  },
  "language_info": {
   "codemirror_mode": {
    "name": "ipython",
    "version": 3
   },
   "file_extension": ".py",
   "mimetype": "text/x-python",
   "name": "python",
   "nbconvert_exporter": "python",
   "pygments_lexer": "ipython3",
   "version": "3.7.3"
  }
 },
 "nbformat": 4,
 "nbformat_minor": 5
}
