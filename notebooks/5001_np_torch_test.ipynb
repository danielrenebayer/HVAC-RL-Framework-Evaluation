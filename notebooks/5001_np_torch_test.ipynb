{
 "cells": [
  {
   "cell_type": "code",
   "execution_count": 1,
   "id": "determined-benjamin",
   "metadata": {},
   "outputs": [],
   "source": [
    "import numpy as np\n",
    "import torch\n",
    "import datetime"
   ]
  },
  {
   "cell_type": "code",
   "execution_count": 2,
   "id": "educated-saver",
   "metadata": {},
   "outputs": [],
   "source": [
    "from torchsummary import summary"
   ]
  },
  {
   "cell_type": "code",
   "execution_count": 3,
   "id": "thick-determination",
   "metadata": {},
   "outputs": [],
   "source": [
    "import os\n",
    "import sys\n",
    "\n",
    "glp = os.path.abspath(\"../code\")\n",
    "if not glp in sys.path: sys.path.append( glp )\n",
    "    \n",
    "import StateUtilities as SU"
   ]
  },
  {
   "cell_type": "code",
   "execution_count": null,
   "id": "varying-pickup",
   "metadata": {},
   "outputs": [],
   "source": []
  },
  {
   "cell_type": "code",
   "execution_count": 4,
   "id": "rapid-import",
   "metadata": {},
   "outputs": [
    {
     "data": {
      "text/plain": [
       "array([0., 0., 0., 0., 0., 0., 0., 0., 0., 0.])"
      ]
     },
     "execution_count": 4,
     "metadata": {},
     "output_type": "execute_result"
    }
   ],
   "source": [
    "np.zeros(10)"
   ]
  },
  {
   "cell_type": "code",
   "execution_count": 5,
   "id": "korean-correlation",
   "metadata": {},
   "outputs": [
    {
     "data": {
      "text/plain": [
       "0.3"
      ]
     },
     "execution_count": 5,
     "metadata": {},
     "output_type": "execute_result"
    }
   ],
   "source": [
    "SU.normalize_variable(19, 'Zone Temperature')"
   ]
  },
  {
   "cell_type": "code",
   "execution_count": 6,
   "id": "turkish-purchase",
   "metadata": {
    "scrolled": true
   },
   "outputs": [
    {
     "data": {
      "text/plain": [
       "{'Day of Week': (0.0, 6.0),\n",
       " 'Minutes of Day': (0.0, 1439.0),\n",
       " 'Calendar Week': (1.0, 53.0),\n",
       " 'Outdoor Air Temperature': (-20.0, 40.0),\n",
       " 'Outdoor Air Humidity': (0.0, 100.0),\n",
       " 'Outdoor Wind Speed': (0.0, 15.0),\n",
       " 'Outdoor Wind Direction': (0.0, 360.0),\n",
       " 'Outdoor Solar Radi Diffuse': (0.0, 1000.0),\n",
       " 'Outdoor Solar Radi Direct': (0.0, 200.0),\n",
       " 'Zone VAV Reheat Damper Position': (0.0, 1.0),\n",
       " 'Zone Relative Humidity': (0.0, 100.0),\n",
       " 'Zone CO2': (410.0, 5000.0),\n",
       " 'Zone Temperature': (10.0, 40.0),\n",
       " 'Zone Heating/Cooling-Mean Setpoint': (14.0, 30.0),\n",
       " 'Zone Heating/Cooling-Delta Setpoint': (-10.0, 10.0)}"
      ]
     },
     "execution_count": 6,
     "metadata": {},
     "output_type": "execute_result"
    }
   ],
   "source": [
    "SU.variable_ranges"
   ]
  },
  {
   "cell_type": "code",
   "execution_count": null,
   "id": "chemical-hunger",
   "metadata": {},
   "outputs": [],
   "source": []
  },
  {
   "cell_type": "code",
   "execution_count": null,
   "id": "controlling-simulation",
   "metadata": {},
   "outputs": [],
   "source": []
  },
  {
   "cell_type": "code",
   "execution_count": 7,
   "id": "intense-copyright",
   "metadata": {},
   "outputs": [],
   "source": [
    "input_size  = 10\n",
    "output_size = 2\n",
    "hidden_size = (2*input_size+output_size) // 3\n",
    "\n",
    "model_actor = torch.nn.Sequential(\n",
    "    torch.nn.Linear(input_size, hidden_size),\n",
    "    torch.nn.ReLU(),\n",
    "    torch.nn.Linear(hidden_size, hidden_size),\n",
    "    torch.nn.ReLU(),\n",
    "    torch.nn.Linear(hidden_size, output_size)\n",
    ")\n",
    "model_target = torch.nn.Sequential(\n",
    "    torch.nn.Linear(input_size, hidden_size),\n",
    "    torch.nn.ReLU(),\n",
    "    torch.nn.Linear(hidden_size, hidden_size),\n",
    "    torch.nn.ReLU(),\n",
    "    torch.nn.Linear(hidden_size, output_size)\n",
    ")"
   ]
  },
  {
   "cell_type": "code",
   "execution_count": 8,
   "id": "existing-chuck",
   "metadata": {},
   "outputs": [
    {
     "data": {
      "text/plain": [
       "Sequential(\n",
       "  (0): Linear(in_features=10, out_features=7, bias=True)\n",
       "  (1): ReLU()\n",
       "  (2): Linear(in_features=7, out_features=7, bias=True)\n",
       "  (3): ReLU()\n",
       "  (4): Linear(in_features=7, out_features=2, bias=True)\n",
       ")"
      ]
     },
     "execution_count": 8,
     "metadata": {},
     "output_type": "execute_result"
    }
   ],
   "source": [
    "model_actor"
   ]
  },
  {
   "cell_type": "code",
   "execution_count": 9,
   "id": "actual-above",
   "metadata": {},
   "outputs": [
    {
     "name": "stdout",
     "output_type": "stream",
     "text": [
      "----------------------------------------------------------------\n",
      "        Layer (type)               Output Shape         Param #\n",
      "================================================================\n",
      "            Linear-1                    [-1, 7]              77\n",
      "              ReLU-2                    [-1, 7]               0\n",
      "            Linear-3                    [-1, 7]              56\n",
      "              ReLU-4                    [-1, 7]               0\n",
      "            Linear-5                    [-1, 2]              16\n",
      "================================================================\n",
      "Total params: 149\n",
      "Trainable params: 149\n",
      "Non-trainable params: 0\n",
      "----------------------------------------------------------------\n",
      "Input size (MB): 0.00\n",
      "Forward/backward pass size (MB): 0.00\n",
      "Params size (MB): 0.00\n",
      "Estimated Total Size (MB): 0.00\n",
      "----------------------------------------------------------------\n"
     ]
    },
    {
     "name": "stderr",
     "output_type": "stream",
     "text": [
      "/home/daniel/pyenvs/mastarbvenv/lib/python3.7/site-packages/torch/cuda/__init__.py:52: UserWarning: CUDA initialization: Found no NVIDIA driver on your system. Please check that you have an NVIDIA GPU and installed a driver from http://www.nvidia.com/Download/index.aspx (Triggered internally at  /pytorch/c10/cuda/CUDAFunctions.cpp:100.)\n",
      "  return torch._C._cuda_getDeviceCount() > 0\n"
     ]
    }
   ],
   "source": [
    "summary(model_actor, (input_size,))"
   ]
  },
  {
   "cell_type": "code",
   "execution_count": 10,
   "id": "arranged-angola",
   "metadata": {},
   "outputs": [],
   "source": [
    "t = torch.from_numpy(np.ones(input_size)[np.newaxis, :])"
   ]
  },
  {
   "cell_type": "code",
   "execution_count": 11,
   "id": "documented-parallel",
   "metadata": {},
   "outputs": [
    {
     "data": {
      "text/plain": [
       "tensor([[2., 2., 2., 2., 2., 2., 2., 2., 2., 2.]], dtype=torch.float64)"
      ]
     },
     "execution_count": 11,
     "metadata": {},
     "output_type": "execute_result"
    }
   ],
   "source": [
    "t+1"
   ]
  },
  {
   "cell_type": "code",
   "execution_count": 12,
   "id": "unnecessary-heading",
   "metadata": {},
   "outputs": [
    {
     "data": {
      "text/plain": [
       "tensor([[2., 2., 2.],\n",
       "        [2., 2., 2.],\n",
       "        [2., 2., 2.]])"
      ]
     },
     "execution_count": 12,
     "metadata": {},
     "output_type": "execute_result"
    }
   ],
   "source": [
    "x = torch.zeros((3,2))\n",
    "y = torch.ones((3,4))\n",
    "z = torch.ones((3,3)) * 2\n",
    "z"
   ]
  },
  {
   "cell_type": "code",
   "execution_count": 13,
   "id": "relevant-metabolism",
   "metadata": {},
   "outputs": [
    {
     "data": {
      "text/plain": [
       "tensor([[0., 0., 1., 1., 1., 1., 2., 2., 2.],\n",
       "        [0., 0., 1., 1., 1., 1., 2., 2., 2.],\n",
       "        [0., 0., 1., 1., 1., 1., 2., 2., 2.]])"
      ]
     },
     "execution_count": 13,
     "metadata": {},
     "output_type": "execute_result"
    }
   ],
   "source": [
    "torch.cat([x,y,z], dim=1)"
   ]
  },
  {
   "cell_type": "code",
   "execution_count": 14,
   "id": "sunset-mention",
   "metadata": {},
   "outputs": [
    {
     "data": {
      "text/plain": [
       "torch.Size([3, 7])"
      ]
     },
     "execution_count": 14,
     "metadata": {},
     "output_type": "execute_result"
    }
   ],
   "source": [
    "torch.cat([z,y], dim=1).shape"
   ]
  },
  {
   "cell_type": "code",
   "execution_count": 15,
   "id": "dutch-myrtle",
   "metadata": {},
   "outputs": [
    {
     "data": {
      "text/plain": [
       "tensor([[1., 1., 1., 1.],\n",
       "        [1., 4., 1., 1.],\n",
       "        [1., 1., 1., 1.]])"
      ]
     },
     "execution_count": 15,
     "metadata": {},
     "output_type": "execute_result"
    }
   ],
   "source": [
    "y[1, 1] = 4\n",
    "y"
   ]
  },
  {
   "cell_type": "code",
   "execution_count": 16,
   "id": "stone-credits",
   "metadata": {},
   "outputs": [],
   "source": [
    "y[0, :] = y[1, :]"
   ]
  },
  {
   "cell_type": "code",
   "execution_count": 17,
   "id": "incoming-clearance",
   "metadata": {},
   "outputs": [
    {
     "data": {
      "text/plain": [
       "torch.float32"
      ]
     },
     "execution_count": 17,
     "metadata": {},
     "output_type": "execute_result"
    }
   ],
   "source": [
    "torch.get_default_dtype()"
   ]
  },
  {
   "cell_type": "code",
   "execution_count": 18,
   "id": "eligible-discretion",
   "metadata": {},
   "outputs": [
    {
     "data": {
      "text/plain": [
       "torch.Size([3, 4])"
      ]
     },
     "execution_count": 18,
     "metadata": {},
     "output_type": "execute_result"
    }
   ],
   "source": [
    "y.shape"
   ]
  },
  {
   "cell_type": "code",
   "execution_count": 19,
   "id": "ideal-vampire",
   "metadata": {},
   "outputs": [
    {
     "data": {
      "text/plain": [
       "torch.Size([2, 15])"
      ]
     },
     "execution_count": 19,
     "metadata": {},
     "output_type": "execute_result"
    }
   ],
   "source": [
    "torch.cat([torch.zeros((1,15)), torch.zeros((1,15))]).shape"
   ]
  },
  {
   "cell_type": "code",
   "execution_count": null,
   "id": "destroyed-problem",
   "metadata": {},
   "outputs": [],
   "source": []
  },
  {
   "cell_type": "code",
   "execution_count": 22,
   "id": "elect-request",
   "metadata": {},
   "outputs": [],
   "source": [
    "import RandomProcessExt"
   ]
  },
  {
   "cell_type": "code",
   "execution_count": 28,
   "id": "broadband-harbor",
   "metadata": {},
   "outputs": [],
   "source": [
    "r = RandomProcessExt.OrnsteinUhlenbeckProcess(theta = 0.15, mu = 0.0, sigma = 0.2, size=3)si "
   ]
  },
  {
   "cell_type": "code",
   "execution_count": 34,
   "id": "brilliant-translator",
   "metadata": {},
   "outputs": [
    {
     "data": {
      "text/plain": [
       "array([-0.07691389,  0.11421494, -0.33178793])"
      ]
     },
     "execution_count": 34,
     "metadata": {},
     "output_type": "execute_result"
    }
   ],
   "source": [
    "rsamp = r.sample()\n",
    "rsamp"
   ]
  },
  {
   "cell_type": "code",
   "execution_count": 39,
   "id": "controversial-department",
   "metadata": {},
   "outputs": [
    {
     "data": {
      "text/plain": [
       "tensor([[0.9231, 1.1142, 0.6682]], dtype=torch.float64)"
      ]
     },
     "execution_count": 39,
     "metadata": {},
     "output_type": "execute_result"
    }
   ],
   "source": [
    "torch.from_numpy(rsamp[np.newaxis, :]) + torch.ones((1,3))"
   ]
  },
  {
   "cell_type": "code",
   "execution_count": null,
   "id": "proprietary-straight",
   "metadata": {},
   "outputs": [],
   "source": []
  },
  {
   "cell_type": "code",
   "execution_count": null,
   "id": "adolescent-mauritius",
   "metadata": {},
   "outputs": [],
   "source": []
  },
  {
   "cell_type": "code",
   "execution_count": 1,
   "id": "unlikely-nicaragua",
   "metadata": {},
   "outputs": [],
   "source": [
    "import pandas as pd"
   ]
  },
  {
   "cell_type": "code",
   "execution_count": 2,
   "id": "higher-delight",
   "metadata": {},
   "outputs": [],
   "source": [
    "index_list_1 = [1,1,1,2,2,2]\n",
    "index_list_2 = [1,2,3,1,2,3]"
   ]
  },
  {
   "cell_type": "code",
   "execution_count": 3,
   "id": "super-bride",
   "metadata": {},
   "outputs": [],
   "source": [
    "datalist = [{\"entry 1\": i**5, \"entry 2\": i+304} for i in range(6)]"
   ]
  },
  {
   "cell_type": "code",
   "execution_count": 4,
   "id": "announced-fleece",
   "metadata": {},
   "outputs": [
    {
     "data": {
      "text/plain": [
       "[{'entry 1': 0, 'entry 2': 304},\n",
       " {'entry 1': 1, 'entry 2': 305},\n",
       " {'entry 1': 32, 'entry 2': 306},\n",
       " {'entry 1': 243, 'entry 2': 307},\n",
       " {'entry 1': 1024, 'entry 2': 308},\n",
       " {'entry 1': 3125, 'entry 2': 309}]"
      ]
     },
     "execution_count": 4,
     "metadata": {},
     "output_type": "execute_result"
    }
   ],
   "source": [
    "datalist"
   ]
  },
  {
   "cell_type": "code",
   "execution_count": 7,
   "id": "insured-costs",
   "metadata": {},
   "outputs": [
    {
     "data": {
      "text/html": [
       "<div>\n",
       "<style scoped>\n",
       "    .dataframe tbody tr th:only-of-type {\n",
       "        vertical-align: middle;\n",
       "    }\n",
       "\n",
       "    .dataframe tbody tr th {\n",
       "        vertical-align: top;\n",
       "    }\n",
       "\n",
       "    .dataframe thead th {\n",
       "        text-align: right;\n",
       "    }\n",
       "</style>\n",
       "<table border=\"1\" class=\"dataframe\">\n",
       "  <thead>\n",
       "    <tr style=\"text-align: right;\">\n",
       "      <th></th>\n",
       "      <th></th>\n",
       "      <th>entry 1</th>\n",
       "      <th>entry 2</th>\n",
       "    </tr>\n",
       "  </thead>\n",
       "  <tbody>\n",
       "    <tr>\n",
       "      <th rowspan=\"3\" valign=\"top\">1</th>\n",
       "      <th>1</th>\n",
       "      <td>0</td>\n",
       "      <td>304</td>\n",
       "    </tr>\n",
       "    <tr>\n",
       "      <th>2</th>\n",
       "      <td>1</td>\n",
       "      <td>305</td>\n",
       "    </tr>\n",
       "    <tr>\n",
       "      <th>3</th>\n",
       "      <td>32</td>\n",
       "      <td>306</td>\n",
       "    </tr>\n",
       "    <tr>\n",
       "      <th rowspan=\"3\" valign=\"top\">2</th>\n",
       "      <th>1</th>\n",
       "      <td>243</td>\n",
       "      <td>307</td>\n",
       "    </tr>\n",
       "    <tr>\n",
       "      <th>2</th>\n",
       "      <td>1024</td>\n",
       "      <td>308</td>\n",
       "    </tr>\n",
       "    <tr>\n",
       "      <th>3</th>\n",
       "      <td>3125</td>\n",
       "      <td>309</td>\n",
       "    </tr>\n",
       "  </tbody>\n",
       "</table>\n",
       "</div>"
      ],
      "text/plain": [
       "     entry 1  entry 2\n",
       "1 1        0      304\n",
       "  2        1      305\n",
       "  3       32      306\n",
       "2 1      243      307\n",
       "  2     1024      308\n",
       "  3     3125      309"
      ]
     },
     "execution_count": 7,
     "metadata": {},
     "output_type": "execute_result"
    }
   ],
   "source": [
    "pd.DataFrame(datalist, index=[index_list_1, index_list_2])"
   ]
  },
  {
   "cell_type": "code",
   "execution_count": null,
   "id": "brutal-sailing",
   "metadata": {},
   "outputs": [],
   "source": []
  },
  {
   "cell_type": "code",
   "execution_count": null,
   "id": "eastern-alarm",
   "metadata": {},
   "outputs": [],
   "source": []
  },
  {
   "cell_type": "code",
   "execution_count": null,
   "id": "finished-landing",
   "metadata": {},
   "outputs": [],
   "source": []
  },
  {
   "cell_type": "code",
   "execution_count": null,
   "id": "threaded-couple",
   "metadata": {},
   "outputs": [],
   "source": []
  }
 ],
 "metadata": {
  "kernelspec": {
   "display_name": "Python 3",
   "language": "python",
   "name": "python3"
  },
  "language_info": {
   "codemirror_mode": {
    "name": "ipython",
    "version": 3
   },
   "file_extension": ".py",
   "mimetype": "text/x-python",
   "name": "python",
   "nbconvert_exporter": "python",
   "pygments_lexer": "ipython3",
   "version": "3.7.3"
  }
 },
 "nbformat": 4,
 "nbformat_minor": 5
}
