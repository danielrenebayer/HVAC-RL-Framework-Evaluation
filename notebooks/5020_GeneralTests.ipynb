{
 "cells": [
  {
   "cell_type": "code",
   "execution_count": 3,
   "id": "ffe8b9a0",
   "metadata": {},
   "outputs": [],
   "source": [
    "import numpy as np\n",
    "import torch\n",
    "import datetime\n",
    "import pickle"
   ]
  },
  {
   "cell_type": "code",
   "execution_count": 4,
   "id": "f5ff4102",
   "metadata": {},
   "outputs": [],
   "source": [
    "import os\n",
    "import sys\n",
    "\n",
    "glp = os.path.abspath(\"../code\")\n",
    "if not glp in sys.path: sys.path.append( glp )\n",
    "    \n",
    "import StateUtilities as SU"
   ]
  },
  {
   "cell_type": "code",
   "execution_count": null,
   "id": "50daf43e",
   "metadata": {},
   "outputs": [],
   "source": []
  },
  {
   "cell_type": "code",
   "execution_count": 5,
   "id": "36b1da94",
   "metadata": {},
   "outputs": [],
   "source": [
    "f = \"../checkpoints/s114-verbose/20210505-1946/vbo-agents-1.pickle\"\n",
    "fl = open(f, \"rb\")\n",
    "agents = pickle.load(fl)\n",
    "fl.close()"
   ]
  },
  {
   "cell_type": "code",
   "execution_count": 6,
   "id": "17e03b0c",
   "metadata": {},
   "outputs": [],
   "source": [
    "f = \"../checkpoints/s114-verbose/20210505-1946/vbo-status_output_dict-1.pickle\"\n",
    "fl = open(f, \"rb\")\n",
    "vbo = pickle.load(fl)\n",
    "fl.close()"
   ]
  },
  {
   "cell_type": "code",
   "execution_count": 7,
   "id": "86fce11d",
   "metadata": {},
   "outputs": [],
   "source": [
    "f = \"../checkpoints/s114-verbose/20210505-1946/vbo-building-1.pickle\"\n",
    "fl = open(f, \"rb\")\n",
    "building_global_state_variables = pickle.load(fl)\n",
    "fl.close()"
   ]
  },
  {
   "cell_type": "code",
   "execution_count": null,
   "id": "c4d63a15",
   "metadata": {},
   "outputs": [],
   "source": []
  },
  {
   "cell_type": "code",
   "execution_count": 8,
   "id": "a94c92e5",
   "metadata": {},
   "outputs": [
    {
     "data": {
      "text/plain": [
       "['Minutes of Day',\n",
       " 'Day of Week',\n",
       " 'Calendar Week',\n",
       " 'SPACE1-1 Zone Temperature',\n",
       " 'SPACE2-1 Zone Temperature',\n",
       " 'SPACE3-1 Zone Temperature',\n",
       " 'SPACE4-1 Zone Temperature',\n",
       " 'SPACE5-1 Zone Temperature',\n",
       " 'SPACE1-1 Zone VAV Reheat Damper Position',\n",
       " 'SPACE2-1 Zone VAV Reheat Damper Position',\n",
       " 'SPACE3-1 Zone VAV Reheat Damper Position',\n",
       " 'SPACE4-1 Zone VAV Reheat Damper Position',\n",
       " 'SPACE5-1 Zone VAV Reheat Damper Position',\n",
       " 'SPACE1-1 Zone CO2',\n",
       " 'SPACE2-1 Zone CO2',\n",
       " 'SPACE3-1 Zone CO2',\n",
       " 'SPACE4-1 Zone CO2',\n",
       " 'SPACE5-1 Zone CO2',\n",
       " 'SPACE1-1 Zone People Count',\n",
       " 'SPACE2-1 Zone People Count',\n",
       " 'SPACE3-1 Zone People Count',\n",
       " 'SPACE4-1 Zone People Count',\n",
       " 'SPACE5-1 Zone People Count',\n",
       " 'SPACE1-1 Zone Relative Humidity',\n",
       " 'SPACE2-1 Zone Relative Humidity',\n",
       " 'SPACE3-1 Zone Relative Humidity',\n",
       " 'SPACE4-1 Zone Relative Humidity',\n",
       " 'SPACE5-1 Zone Relative Humidity',\n",
       " 'Outdoor Air Temperature',\n",
       " 'Outdoor Air Humidity',\n",
       " 'Outdoor Wind Speed',\n",
       " 'Outdoor Wind Direction',\n",
       " 'Outdoor Solar Radi Diffuse',\n",
       " 'Outdoor Solar Radi Direct']"
      ]
     },
     "execution_count": 8,
     "metadata": {},
     "output_type": "execute_result"
    }
   ],
   "source": [
    "building_global_state_variables"
   ]
  },
  {
   "cell_type": "code",
   "execution_count": 10,
   "id": "d362f305",
   "metadata": {},
   "outputs": [
    {
     "data": {
      "text/plain": [
       "True"
      ]
     },
     "execution_count": 10,
     "metadata": {},
     "output_type": "execute_result"
    }
   ],
   "source": [
    "len(building_global_state_variables) == vbo[0]['norm_state_ten'].shape[1]"
   ]
  },
  {
   "cell_type": "code",
   "execution_count": null,
   "id": "4eb47de6",
   "metadata": {},
   "outputs": [],
   "source": []
  },
  {
   "cell_type": "code",
   "execution_count": 12,
   "id": "de7a907c",
   "metadata": {},
   "outputs": [
    {
     "data": {
      "text/plain": [
       "['Minutes of Day', 'Day of Week', 'Outdoor Solar Radi Direct']"
      ]
     },
     "execution_count": 12,
     "metadata": {},
     "output_type": "execute_result"
    }
   ],
   "source": [
    "agents[0].input_parameters"
   ]
  },
  {
   "cell_type": "code",
   "execution_count": 16,
   "id": "bf49faf2",
   "metadata": {},
   "outputs": [
    {
     "name": "stdout",
     "output_type": "stream",
     "text": [
      "Input parameter name Minutes of Day                   , position: 0\n",
      "Input parameter name Day of Week                      , position: 1\n",
      "Input parameter name Outdoor Solar Radi Direct        , position: 33\n"
     ]
    }
   ],
   "source": [
    "for iparam in agents[0].input_parameters:\n",
    "    idx = building_global_state_variables.index(iparam)\n",
    "    print(f\"Input parameter name {iparam:33}, position: {idx}\")"
   ]
  },
  {
   "cell_type": "code",
   "execution_count": 9,
   "id": "441780ed",
   "metadata": {},
   "outputs": [
    {
     "data": {
      "text/plain": [
       "dict_keys(['state', 'norm_state_ten', 'agent_action', 'agent internal input tensor'])"
      ]
     },
     "execution_count": 9,
     "metadata": {},
     "output_type": "execute_result"
    }
   ],
   "source": [
    "vbo[0].keys()"
   ]
  },
  {
   "cell_type": "code",
   "execution_count": 11,
   "id": "9e596d09",
   "metadata": {},
   "outputs": [
    {
     "data": {
      "text/plain": [
       "tensor([[-0.9166,  1.0000,  0.9615, -0.6659, -0.6519, -0.6635, -0.6522, -0.4816,\n",
       "         -1.0000, -1.0000, -1.0000, -1.0000, -1.0000, -0.9999, -0.9999, -0.9999,\n",
       "         -0.9999, -0.9999,  0.0000,  0.0000,  0.0000,  0.0000,  0.0000, -0.8482,\n",
       "         -0.8503, -0.8485, -0.8502, -0.8728, -0.8133,  0.7400, -0.8000, -0.5000,\n",
       "         -1.0000, -1.0000]])"
      ]
     },
     "execution_count": 11,
     "metadata": {},
     "output_type": "execute_result"
    }
   ],
   "source": [
    "vbo[0]['norm_state_ten']"
   ]
  },
  {
   "cell_type": "code",
   "execution_count": 22,
   "id": "8d659363",
   "metadata": {},
   "outputs": [
    {
     "data": {
      "text/plain": [
       "tensor([[-0.6664,  1.0000, -1.0000]])"
      ]
     },
     "execution_count": 22,
     "metadata": {},
     "output_type": "execute_result"
    }
   ],
   "source": [
    "vbo[3]['norm_state_ten'][:,[0,1,33]]"
   ]
  },
  {
   "cell_type": "code",
   "execution_count": 18,
   "id": "3626408e",
   "metadata": {},
   "outputs": [
    {
     "data": {
      "text/plain": [
       "7"
      ]
     },
     "execution_count": 18,
     "metadata": {},
     "output_type": "execute_result"
    }
   ],
   "source": [
    "vbo[0]['agent_action']"
   ]
  },
  {
   "cell_type": "code",
   "execution_count": 19,
   "id": "7a1ec214",
   "metadata": {},
   "outputs": [
    {
     "data": {
      "text/plain": [
       "tensor([[-0.9166,  1.0000, -1.0000]])"
      ]
     },
     "execution_count": 19,
     "metadata": {},
     "output_type": "execute_result"
    }
   ],
   "source": [
    "vbo[0]['agent internal input tensor']"
   ]
  },
  {
   "cell_type": "code",
   "execution_count": null,
   "id": "bf270742",
   "metadata": {},
   "outputs": [],
   "source": []
  },
  {
   "cell_type": "code",
   "execution_count": null,
   "id": "78564dc3",
   "metadata": {},
   "outputs": [],
   "source": []
  },
  {
   "cell_type": "code",
   "execution_count": null,
   "id": "9a69be9a",
   "metadata": {},
   "outputs": [],
   "source": []
  },
  {
   "cell_type": "code",
   "execution_count": null,
   "id": "7da7af52",
   "metadata": {},
   "outputs": [],
   "source": []
  },
  {
   "cell_type": "code",
   "execution_count": null,
   "id": "72e51003",
   "metadata": {},
   "outputs": [],
   "source": []
  }
 ],
 "metadata": {
  "kernelspec": {
   "display_name": "Python 3",
   "language": "python",
   "name": "python3"
  },
  "language_info": {
   "codemirror_mode": {
    "name": "ipython",
    "version": 3
   },
   "file_extension": ".py",
   "mimetype": "text/x-python",
   "name": "python",
   "nbconvert_exporter": "python",
   "pygments_lexer": "ipython3",
   "version": "3.7.3"
  }
 },
 "nbformat": 4,
 "nbformat_minor": 5
}
